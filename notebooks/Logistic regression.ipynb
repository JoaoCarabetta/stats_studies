{
 "cells": [
  {
   "cell_type": "markdown",
   "metadata": {},
   "source": [
    "# Logistic regression\n",
    "\n",
    "----\n",
    "\n",
    "This kind of model tries to deal with binary outcomes. It's a generalized linear model: the basic ideia is that we know well how to model continuous outcome from linear regression, so we'll try to fit our binary outcome with a continuous function that, with some transformations, can be linearized given our preditor variables.\n",
    "\n",
    "Each outcome $y_i$ is believed to follow a Bernoulli distribuiton given by:\n",
    "\n",
    "$$ \\Pr(y_i = 1) = p$$\n",
    "\n",
    "Our model will try to estimate a probability $p_i$ given a called $logit$ - which is modeled as log function of $p$ and it's value is obtained by a linear function of the predictors:\n",
    "\n",
    "$$ logit(\\hat{p}) = log(\\frac{\\hat{p}}{1-\\hat{p}}) = \\beta X $$\n",
    "\n",
    "From the equation above, one can see that $logit^{-1}$ gives us the value of $\\hat{p}$ estimated by the model. We can calculate doing some algebraic transformations: \n",
    "\n",
    "$$\\frac{\\hat{p}}{1-p} = \\exp{(\\beta X)} \\\\\n",
    "\\hat{p}(1 + \\exp{(\\beta X)}) = \\exp{(\\beta X)} \\\\\n",
    "\\hat{p} = \\frac{1}{1 + \\exp{(-\\beta X)}}$$\n",
    "\n",
    "Note that this is a sigmoid function, that is steppest at $logit^{-1}(0.5)$ $-$ one can interpret it thinking about the probability of $y_i = 1$: values above $0.5$ are believed to have a positive outcome since we're try to model the expected value [1] as a \"turning point\", because that's no such thing as a $0.5$ outcome.\n",
    "\n",
    "[1] $E(p) = \\frac{1+0}{2} = 0.5$\n",
    "\n",
    "## References\n",
    "\n",
    "- [Gelman, A., & Hill, J. (2006). Data analysis using regression and multilevel/hierarchical models. Cambridge university press.](https://www.cambridge.org/core/books/data-analysis-using-regression-and-multilevelhierarchical-models/32A29531C7FD730C3A68951A17C9D983)"
   ]
  },
  {
   "cell_type": "markdown",
   "metadata": {
    "toc": true
   },
   "source": [
    "<h1>Table of Contents<span class=\"tocSkip\"></span></h1>\n",
    "<div class=\"toc\"><ul class=\"toc-item\"><li><span><a href=\"#References\" data-toc-modified-id=\"References-1\"><span class=\"toc-item-num\">1&nbsp;&nbsp;</span>References</a></span></li><li><span><a href=\"#Example:-One-predictor\" data-toc-modified-id=\"Example:-One-predictor-2\"><span class=\"toc-item-num\">2&nbsp;&nbsp;</span>Example: One predictor</a></span></li></ul></div>"
   ]
  },
  {
   "cell_type": "code",
   "execution_count": 28,
   "metadata": {},
   "outputs": [
    {
     "data": {
      "text/html": [
       "        <script type=\"text/javascript\">\n",
       "        window.PlotlyConfig = {MathJaxConfig: 'local'};\n",
       "        if (window.MathJax) {MathJax.Hub.Config({SVG: {font: \"STIX-Web\"}});}\n",
       "        if (typeof require !== 'undefined') {\n",
       "        require.undef(\"plotly\");\n",
       "        requirejs.config({\n",
       "            paths: {\n",
       "                'plotly': ['https://cdn.plot.ly/plotly-latest.min']\n",
       "            }\n",
       "        });\n",
       "        require(['plotly'], function(Plotly) {\n",
       "            window._Plotly = Plotly;\n",
       "        });\n",
       "        }\n",
       "        </script>\n",
       "        "
      ]
     },
     "metadata": {},
     "output_type": "display_data"
    },
    {
     "data": {
      "text/html": [
       "        <script type=\"text/javascript\">\n",
       "        window.PlotlyConfig = {MathJaxConfig: 'local'};\n",
       "        if (window.MathJax) {MathJax.Hub.Config({SVG: {font: \"STIX-Web\"}});}\n",
       "        if (typeof require !== 'undefined') {\n",
       "        require.undef(\"plotly\");\n",
       "        requirejs.config({\n",
       "            paths: {\n",
       "                'plotly': ['https://cdn.plot.ly/plotly-latest.min']\n",
       "            }\n",
       "        });\n",
       "        require(['plotly'], function(Plotly) {\n",
       "            window._Plotly = Plotly;\n",
       "        });\n",
       "        }\n",
       "        </script>\n",
       "        "
      ]
     },
     "metadata": {},
     "output_type": "display_data"
    }
   ],
   "source": [
    "# %load first_cell.py\n",
    "%reload_ext autoreload\n",
    "%autoreload 2\n",
    "\n",
    "from paths import RAW_PATH, TREAT_PATH, OUTPUT_PATH, FIGURES_PATH\n",
    "\n",
    "from copy import deepcopy\n",
    "import numpy as np\n",
    "import pandas as pd\n",
    "pd.options.display.max_columns = 999\n",
    "import pandas_profiling\n",
    "\n",
    "import warnings\n",
    "warnings.filterwarnings('ignore')\n",
    "\n",
    "# Plotting\n",
    "import plotly\n",
    "import plotly.graph_objs as go\n",
    "import cufflinks as cf\n",
    "plotly.offline.init_notebook_mode(connected=True)\n",
    "\n",
    "cf.go_offline()\n",
    "cf.set_config_file(offline=False, world_readable=True)"
   ]
  },
  {
   "cell_type": "markdown",
   "metadata": {},
   "source": [
    "## Example: One predictor\n",
    "\n",
    "\n",
    "Let's simulate some trivial data - in this case, we have a categorical variable $x \\in [1, 5]$ and a outcome $y$ that is simply $y_i = 1, x \\geq 3; y = 0, otherwise.$"
   ]
  },
  {
   "cell_type": "code",
   "execution_count": 43,
   "metadata": {
    "scrolled": true
   },
   "outputs": [
    {
     "data": {
      "text/html": [
       "<div>\n",
       "<style scoped>\n",
       "    .dataframe tbody tr th:only-of-type {\n",
       "        vertical-align: middle;\n",
       "    }\n",
       "\n",
       "    .dataframe tbody tr th {\n",
       "        vertical-align: top;\n",
       "    }\n",
       "\n",
       "    .dataframe thead th {\n",
       "        text-align: right;\n",
       "    }\n",
       "</style>\n",
       "<table border=\"1\" class=\"dataframe\">\n",
       "  <thead>\n",
       "    <tr style=\"text-align: right;\">\n",
       "      <th></th>\n",
       "      <th>x</th>\n",
       "      <th>y</th>\n",
       "    </tr>\n",
       "  </thead>\n",
       "  <tbody>\n",
       "    <tr>\n",
       "      <th>0</th>\n",
       "      <td>5</td>\n",
       "      <td>1</td>\n",
       "    </tr>\n",
       "    <tr>\n",
       "      <th>1</th>\n",
       "      <td>4</td>\n",
       "      <td>1</td>\n",
       "    </tr>\n",
       "    <tr>\n",
       "      <th>2</th>\n",
       "      <td>3</td>\n",
       "      <td>1</td>\n",
       "    </tr>\n",
       "    <tr>\n",
       "      <th>3</th>\n",
       "      <td>4</td>\n",
       "      <td>1</td>\n",
       "    </tr>\n",
       "    <tr>\n",
       "      <th>4</th>\n",
       "      <td>4</td>\n",
       "      <td>1</td>\n",
       "    </tr>\n",
       "  </tbody>\n",
       "</table>\n",
       "</div>"
      ],
      "text/plain": [
       "   x  y\n",
       "0  5  1\n",
       "1  4  1\n",
       "2  3  1\n",
       "3  4  1\n",
       "4  4  1"
      ]
     },
     "execution_count": 43,
     "metadata": {},
     "output_type": "execute_result"
    }
   ],
   "source": [
    "x = np.random.random_integers(1, 5, 100)\n",
    "y = [1 if i > 2 else 0 for i in x]\n",
    "\n",
    "df = pd.DataFrame(data=np.array([x,y]).T, columns=['x', 'y'])\n",
    "df.head()"
   ]
  },
  {
   "cell_type": "markdown",
   "metadata": {},
   "source": [
    "We can visualize this outcomes for each value of the predictor in the graph below (note that the point are _jittered_ - we added random noise to $x$ and $y$ values so that they wont all fall into the same point)."
   ]
  },
  {
   "cell_type": "code",
   "execution_count": 44,
   "metadata": {
    "scrolled": false
   },
   "outputs": [
    {
     "data": {
      "application/vnd.plotly.v1+json": {
       "config": {
        "linkText": "Export to plot.ly",
        "plotlyServerURL": "https://plot.ly",
        "showLink": true
       },
       "data": [
        {
         "line": {
          "color": "rgba(55, 128, 191, 1.0)",
          "dash": "solid",
          "shape": "linear",
          "width": 1.3
         },
         "marker": {
          "size": 12,
          "symbol": "circle"
         },
         "mode": "markers",
         "name": "y_jitter",
         "text": "",
         "type": "scatter",
         "uid": "eb683427-157e-4480-a9a8-430fea1d3cdb",
         "x": [
          5.040953648240566,
          3.97266163147833,
          2.8400777578934138,
          3.897806325950771,
          4.031401718899499,
          4.958650757981126,
          1.0115268232559305,
          3.1361889343055056,
          3.035795376891217,
          3.0084534983491835,
          4.995875887128346,
          5.012777375983599,
          1.90685367338087,
          1.1394836574734046,
          0.9720549399621147,
          4.988709847650456,
          1.9280136417512914,
          2.874247701036817,
          4.884077260405061,
          2.9418752462235047,
          2.0227126027716023,
          3.9810967321736555,
          0.9665247414005246,
          0.8728818215452832,
          4.924350697151737,
          5.008495944738707,
          2.0299507038343236,
          2.9124225316922367,
          3.0498275121746277,
          1.0351445136794792,
          3.978996126052307,
          4.83890955016733,
          3.047080942482415,
          4.828432614733837,
          4.895408086368495,
          1.0256061620598538,
          2.9842254468993197,
          1.8871567497390054,
          5.007017928756416,
          3.9800753543091107,
          0.9926227696592704,
          0.871122177621178,
          4.12419973179961,
          4.9481418207967565,
          2.9459539044654353,
          1.0364701906142648,
          5.049634701884306,
          4.92201028128517,
          4.98382066485867,
          1.983805611697529,
          1.0001327283121315,
          3.922473213657106,
          1.9534764640062048,
          1.0164895699724366,
          1.0823711497402122,
          3.9563855478475,
          3.9769860937179233,
          3.041391917355894,
          1.1937914081711325,
          4.01511932950691,
          1.0365893588975572,
          3.0340578162834206,
          2.005201349582826,
          1.902066695750451,
          3.838493635136225,
          4.152022809867769,
          2.070699283970595,
          1.967809814217752,
          1.012005517716061,
          3.0561197720488686,
          4.929762062540482,
          3.8838048604770017,
          5.021689928738524,
          1.1131481497485733,
          5.041735326873417,
          1.978257016337526,
          2.0871388579478833,
          1.0213487015710034,
          3.066881941658075,
          5.029531933518658,
          3.0897748718851386,
          1.8697757558086754,
          5.0308289605282654,
          4.081031609826696,
          1.0807176666461464,
          1.8479046386150633,
          5.050999489222841,
          3.953309980853064,
          1.0669493562446286,
          4.8787614300782565,
          3.898388838135687,
          4.843389946585362,
          5.038511678773276,
          4.936820401746442,
          2.9940329878669254,
          2.9735274201746456,
          3.949525508432944,
          2.854294128825988,
          5.153434862600176,
          1.0487173252617412
         ],
         "y": [
          0.9271871090684876,
          1.0689054033328966,
          1.0326656443635505,
          0.9898739488524257,
          0.9688556013359896,
          0.9843852702785306,
          -0.009226802438201266,
          1.0043799610258626,
          0.9877848134116349,
          0.9893113707234684,
          1.0460019981583937,
          1.0053500143230956,
          0.020823658240822843,
          0.03636876929698104,
          -0.058411341127484355,
          0.995746768513711,
          -0.04638486313587454,
          1.0178430888476353,
          1.0795987154436486,
          0.9827001024533147,
          0.002588401060354621,
          0.9448889894932762,
          0.05060899553709268,
          -0.07061451625255069,
          1.0196676381827694,
          0.9957062135256417,
          0.0038924428327088874,
          0.9802789528081407,
          0.9704072877618832,
          0.019189200409658144,
          0.9880419206900325,
          0.9829356451690068,
          1.043232232557284,
          1.0063403715803134,
          0.9098680528922337,
          -0.007855332190332034,
          1.0771987377184518,
          -0.07935808645938633,
          1.063582639066204,
          0.9443756136713573,
          -0.029183731245384027,
          0.004274218789206571,
          0.9986160620291888,
          1.0162817228645236,
          1.0322865284281664,
          0.01342794924228146,
          0.9869744959592835,
          0.9310312929110642,
          1.0176763482482842,
          -0.023728368306593466,
          -0.06723549722499939,
          0.991796156295633,
          -0.03749404373271843,
          0.03461835890946063,
          -0.057064395574841734,
          1.0229032300763394,
          1.0114619025029992,
          1.0172327867696855,
          0.06675377190295581,
          1.0053178902050388,
          0.014103130785188557,
          1.050381465942262,
          -0.0002146345459237281,
          0.05541721735590909,
          1.0324893664705874,
          0.9802430069552863,
          -0.04890616534375852,
          -0.005700735588447331,
          -0.0216700834180762,
          0.991682851999385,
          1.0018551342921898,
          1.0597508515591163,
          1.0525281386309904,
          0.0009380338290942009,
          1.018802108071359,
          0.08626274491380935,
          -0.008409172601483127,
          -0.048504999569940976,
          1.0785343633013023,
          0.9879187892533552,
          0.924022973374722,
          -0.038073524973931405,
          1.0133252395158143,
          0.9294411960407413,
          -0.018265493928896093,
          0.00528576378909075,
          1.030705926788805,
          0.9716366402248491,
          0.03232731903589771,
          1.0484431611525213,
          1.050421508751219,
          1.0080250705200817,
          1.0931887101544802,
          0.9767970386214407,
          1.053369434761147,
          0.9832716515081926,
          0.983016732486629,
          0.9665555271984893,
          0.9828567941323426,
          -0.05672765115088963
         ]
        }
       ],
       "layout": {
        "legend": {
         "bgcolor": "#FFFFFF",
         "font": {
          "color": "#4D5663"
         }
        },
        "paper_bgcolor": "#FFFFFF",
        "plot_bgcolor": "#FFFFFF",
        "title": {
         "font": {
          "color": "#4D5663"
         },
         "text": "Simulated outcomes for 5-level variable"
        },
        "xaxis": {
         "gridcolor": "#E1E5ED",
         "showgrid": true,
         "tickfont": {
          "color": "#4D5663"
         },
         "title": {
          "font": {
           "color": "#4D5663"
          },
          "text": "Predictor variable"
         },
         "zerolinecolor": "#E1E5ED"
        },
        "yaxis": {
         "gridcolor": "#E1E5ED",
         "showgrid": true,
         "tickfont": {
          "color": "#4D5663"
         },
         "title": {
          "font": {
           "color": "#4D5663"
          },
          "text": "Outcome (y = 1 / y = 0)"
         },
         "zerolinecolor": "#E1E5ED"
        }
       }
      },
      "text/html": [
       "<div>\n",
       "        \n",
       "        \n",
       "            <div id=\"0b972bf3-28c4-4f43-aa51-045e69865b6e\" class=\"plotly-graph-div\" style=\"height:525px; width:100%;\"></div>\n",
       "            <script type=\"text/javascript\">\n",
       "                require([\"plotly\"], function(Plotly) {\n",
       "                    window.PLOTLYENV=window.PLOTLYENV || {};\n",
       "                    window.PLOTLYENV.BASE_URL='https://plot.ly';\n",
       "                    \n",
       "                if (document.getElementById(\"0b972bf3-28c4-4f43-aa51-045e69865b6e\")) {\n",
       "                    Plotly.newPlot(\n",
       "                        '0b972bf3-28c4-4f43-aa51-045e69865b6e',\n",
       "                        [{\"line\": {\"color\": \"rgba(55, 128, 191, 1.0)\", \"dash\": \"solid\", \"shape\": \"linear\", \"width\": 1.3}, \"marker\": {\"size\": 12, \"symbol\": \"circle\"}, \"mode\": \"markers\", \"name\": \"y_jitter\", \"text\": \"\", \"type\": \"scatter\", \"uid\": \"eb683427-157e-4480-a9a8-430fea1d3cdb\", \"x\": [5.040953648240566, 3.97266163147833, 2.8400777578934138, 3.897806325950771, 4.031401718899499, 4.958650757981126, 1.0115268232559305, 3.1361889343055056, 3.035795376891217, 3.0084534983491835, 4.995875887128346, 5.012777375983599, 1.90685367338087, 1.1394836574734046, 0.9720549399621147, 4.988709847650456, 1.9280136417512914, 2.874247701036817, 4.884077260405061, 2.9418752462235047, 2.0227126027716023, 3.9810967321736555, 0.9665247414005246, 0.8728818215452832, 4.924350697151737, 5.008495944738707, 2.0299507038343236, 2.9124225316922367, 3.0498275121746277, 1.0351445136794792, 3.978996126052307, 4.83890955016733, 3.047080942482415, 4.828432614733837, 4.895408086368495, 1.0256061620598538, 2.9842254468993197, 1.8871567497390054, 5.007017928756416, 3.9800753543091107, 0.9926227696592704, 0.871122177621178, 4.12419973179961, 4.9481418207967565, 2.9459539044654353, 1.0364701906142648, 5.049634701884306, 4.92201028128517, 4.98382066485867, 1.983805611697529, 1.0001327283121315, 3.922473213657106, 1.9534764640062048, 1.0164895699724366, 1.0823711497402122, 3.9563855478475, 3.9769860937179233, 3.041391917355894, 1.1937914081711325, 4.01511932950691, 1.0365893588975572, 3.0340578162834206, 2.005201349582826, 1.902066695750451, 3.838493635136225, 4.152022809867769, 2.070699283970595, 1.967809814217752, 1.012005517716061, 3.0561197720488686, 4.929762062540482, 3.8838048604770017, 5.021689928738524, 1.1131481497485733, 5.041735326873417, 1.978257016337526, 2.0871388579478833, 1.0213487015710034, 3.066881941658075, 5.029531933518658, 3.0897748718851386, 1.8697757558086754, 5.0308289605282654, 4.081031609826696, 1.0807176666461464, 1.8479046386150633, 5.050999489222841, 3.953309980853064, 1.0669493562446286, 4.8787614300782565, 3.898388838135687, 4.843389946585362, 5.038511678773276, 4.936820401746442, 2.9940329878669254, 2.9735274201746456, 3.949525508432944, 2.854294128825988, 5.153434862600176, 1.0487173252617412], \"y\": [0.9271871090684876, 1.0689054033328966, 1.0326656443635505, 0.9898739488524257, 0.9688556013359896, 0.9843852702785306, -0.009226802438201266, 1.0043799610258626, 0.9877848134116349, 0.9893113707234684, 1.0460019981583937, 1.0053500143230956, 0.020823658240822843, 0.03636876929698104, -0.058411341127484355, 0.995746768513711, -0.04638486313587454, 1.0178430888476353, 1.0795987154436486, 0.9827001024533147, 0.002588401060354621, 0.9448889894932762, 0.05060899553709268, -0.07061451625255069, 1.0196676381827694, 0.9957062135256417, 0.0038924428327088874, 0.9802789528081407, 0.9704072877618832, 0.019189200409658144, 0.9880419206900325, 0.9829356451690068, 1.043232232557284, 1.0063403715803134, 0.9098680528922337, -0.007855332190332034, 1.0771987377184518, -0.07935808645938633, 1.063582639066204, 0.9443756136713573, -0.029183731245384027, 0.004274218789206571, 0.9986160620291888, 1.0162817228645236, 1.0322865284281664, 0.01342794924228146, 0.9869744959592835, 0.9310312929110642, 1.0176763482482842, -0.023728368306593466, -0.06723549722499939, 0.991796156295633, -0.03749404373271843, 0.03461835890946063, -0.057064395574841734, 1.0229032300763394, 1.0114619025029992, 1.0172327867696855, 0.06675377190295581, 1.0053178902050388, 0.014103130785188557, 1.050381465942262, -0.0002146345459237281, 0.05541721735590909, 1.0324893664705874, 0.9802430069552863, -0.04890616534375852, -0.005700735588447331, -0.0216700834180762, 0.991682851999385, 1.0018551342921898, 1.0597508515591163, 1.0525281386309904, 0.0009380338290942009, 1.018802108071359, 0.08626274491380935, -0.008409172601483127, -0.048504999569940976, 1.0785343633013023, 0.9879187892533552, 0.924022973374722, -0.038073524973931405, 1.0133252395158143, 0.9294411960407413, -0.018265493928896093, 0.00528576378909075, 1.030705926788805, 0.9716366402248491, 0.03232731903589771, 1.0484431611525213, 1.050421508751219, 1.0080250705200817, 1.0931887101544802, 0.9767970386214407, 1.053369434761147, 0.9832716515081926, 0.983016732486629, 0.9665555271984893, 0.9828567941323426, -0.05672765115088963]}],\n",
       "                        {\"legend\": {\"bgcolor\": \"#FFFFFF\", \"font\": {\"color\": \"#4D5663\"}}, \"paper_bgcolor\": \"#FFFFFF\", \"plot_bgcolor\": \"#FFFFFF\", \"title\": {\"font\": {\"color\": \"#4D5663\"}, \"text\": \"Simulated outcomes for 5-level variable\"}, \"xaxis\": {\"gridcolor\": \"#E1E5ED\", \"showgrid\": true, \"tickfont\": {\"color\": \"#4D5663\"}, \"title\": {\"font\": {\"color\": \"#4D5663\"}, \"text\": \"Predictor variable\"}, \"zerolinecolor\": \"#E1E5ED\"}, \"yaxis\": {\"gridcolor\": \"#E1E5ED\", \"showgrid\": true, \"tickfont\": {\"color\": \"#4D5663\"}, \"title\": {\"font\": {\"color\": \"#4D5663\"}, \"text\": \"Outcome (y = 1 / y = 0)\"}, \"zerolinecolor\": \"#E1E5ED\"}},\n",
       "                        {\"showLink\": true, \"linkText\": \"Export to plot.ly\", \"plotlyServerURL\": \"https://plot.ly\", \"responsive\": true}\n",
       "                    ).then(function(){\n",
       "                            \n",
       "var gd = document.getElementById('0b972bf3-28c4-4f43-aa51-045e69865b6e');\n",
       "var x = new MutationObserver(function (mutations, observer) {{\n",
       "        var display = window.getComputedStyle(gd).display;\n",
       "        if (!display || display === 'none') {{\n",
       "            console.log([gd, 'removed!']);\n",
       "            Plotly.purge(gd);\n",
       "            observer.disconnect();\n",
       "        }}\n",
       "}});\n",
       "\n",
       "// Listen for the removal of the full notebook cells\n",
       "var notebookContainer = gd.closest('#notebook-container');\n",
       "if (notebookContainer) {{\n",
       "    x.observe(notebookContainer, {childList: true});\n",
       "}}\n",
       "\n",
       "// Listen for the clearing of the current output cell\n",
       "var outputEl = gd.closest('.output');\n",
       "if (outputEl) {{\n",
       "    x.observe(outputEl, {childList: true});\n",
       "}}\n",
       "\n",
       "                        })\n",
       "                };\n",
       "                });\n",
       "            </script>\n",
       "        </div>"
      ]
     },
     "metadata": {},
     "output_type": "display_data"
    }
   ],
   "source": [
    "df['x_jitter'] = df['x'].apply(lambda x: x + np.random.random()/5 - np.random.random()/5)\n",
    "df['y_jitter'] = df['y'].apply(lambda x: x + np.random.random()/10 - np.random.random()/10)\n",
    "\n",
    "df[['x_jitter', 'y_jitter']].set_index('x_jitter').iplot(kind='scatter', mode='markers', \n",
    "                                                         color='blue', theme='white',\n",
    "                                                         title='Simulated outcomes for 5-level variable',\n",
    "                                                         yTitle='Outcome (y = 1 / y = 0)',\n",
    "                                                         xTitle='Predictor variable')"
   ]
  },
  {
   "cell_type": "markdown",
   "metadata": {},
   "source": [
    "Now, we can run a logistic regression model to get the probabilities of the outcome given our predictor variable:"
   ]
  },
  {
   "cell_type": "code",
   "execution_count": 53,
   "metadata": {},
   "outputs": [
    {
     "data": {
      "text/plain": [
       "LogisticRegression(C=1.0, class_weight=None, dual=False, fit_intercept=True,\n",
       "                   intercept_scaling=1, l1_ratio=None, max_iter=100,\n",
       "                   multi_class='warn', n_jobs=None, penalty='l2',\n",
       "                   random_state=0, solver='warn', tol=0.0001, verbose=0,\n",
       "                   warm_start=False)"
      ]
     },
     "execution_count": 53,
     "metadata": {},
     "output_type": "execute_result"
    }
   ],
   "source": [
    "from sklearn.linear_model import LogisticRegression\n",
    "\n",
    "model = LogisticRegression(random_state=0)\n",
    "model.fit(df[['x']], df['y'])"
   ]
  },
  {
   "cell_type": "markdown",
   "metadata": {},
   "source": [
    "The model generated the following formula for our data: $logit(p) = -3.66 + 1.66 x$. \n",
    "\n",
    "The independent term, $-3.66$, is our _intercept_ and $1.66$ is the _slope_ for the variable x (you can check the values bellow)."
   ]
  },
  {
   "cell_type": "code",
   "execution_count": 54,
   "metadata": {},
   "outputs": [
    {
     "data": {
      "text/plain": [
       "(array([-3.66017627]), array([[1.66235563]]))"
      ]
     },
     "execution_count": 54,
     "metadata": {},
     "output_type": "execute_result"
    }
   ],
   "source": [
    "model.intercept_, model.coef_"
   ]
  },
  {
   "cell_type": "markdown",
   "metadata": {},
   "source": [
    "We can then visualize our logistic function below:"
   ]
  },
  {
   "cell_type": "code",
   "execution_count": 55,
   "metadata": {
    "scrolled": false
   },
   "outputs": [
    {
     "data": {
      "application/vnd.plotly.v1+json": {
       "config": {
        "linkText": "Export to plot.ly",
        "plotlyServerURL": "https://plot.ly",
        "showLink": true
       },
       "data": [
        {
         "line": {
          "color": "rgba(255, 153, 51, 1.0)",
          "dash": "solid",
          "shape": "linear",
          "width": 1.3
         },
         "marker": {
          "size": 12,
          "symbol": "circle"
         },
         "mode": "markers",
         "name": "logit",
         "text": "",
         "type": "scatter",
         "uid": "17b99261-5fe2-4e52-8b2e-266989b85732",
         "x": [
          5,
          4,
          3,
          4,
          4,
          5,
          1,
          3,
          3,
          3,
          5,
          5,
          2,
          1,
          1,
          5,
          2,
          3,
          5,
          3,
          2,
          4,
          1,
          1,
          5,
          5,
          2,
          3,
          3,
          1,
          4,
          5,
          3,
          5,
          5,
          1,
          3,
          2,
          5,
          4,
          1,
          1,
          4,
          5,
          3,
          1,
          5,
          5,
          5,
          2,
          1,
          4,
          2,
          1,
          1,
          4,
          4,
          3,
          1,
          4,
          1,
          3,
          2,
          2,
          4,
          4,
          2,
          2,
          1,
          3,
          5,
          4,
          5,
          1,
          5,
          2,
          2,
          1,
          3,
          5,
          3,
          2,
          5,
          4,
          1,
          2,
          5,
          4,
          1,
          5,
          4,
          5,
          5,
          5,
          3,
          3,
          4,
          3,
          5,
          1
         ],
         "y": [
          4.651601902736594,
          2.989246268627752,
          1.3268906345189104,
          2.989246268627752,
          2.989246268627752,
          4.651601902736594,
          -1.9978206336987743,
          1.3268906345189104,
          1.3268906345189104,
          1.3268906345189104,
          4.651601902736594,
          4.651601902736594,
          -0.33546499958993214,
          -1.9978206336987743,
          -1.9978206336987743,
          4.651601902736594,
          -0.33546499958993214,
          1.3268906345189104,
          4.651601902736594,
          1.3268906345189104,
          -0.33546499958993214,
          2.989246268627752,
          -1.9978206336987743,
          -1.9978206336987743,
          4.651601902736594,
          4.651601902736594,
          -0.33546499958993214,
          1.3268906345189104,
          1.3268906345189104,
          -1.9978206336987743,
          2.989246268627752,
          4.651601902736594,
          1.3268906345189104,
          4.651601902736594,
          4.651601902736594,
          -1.9978206336987743,
          1.3268906345189104,
          -0.33546499958993214,
          4.651601902736594,
          2.989246268627752,
          -1.9978206336987743,
          -1.9978206336987743,
          2.989246268627752,
          4.651601902736594,
          1.3268906345189104,
          -1.9978206336987743,
          4.651601902736594,
          4.651601902736594,
          4.651601902736594,
          -0.33546499958993214,
          -1.9978206336987743,
          2.989246268627752,
          -0.33546499958993214,
          -1.9978206336987743,
          -1.9978206336987743,
          2.989246268627752,
          2.989246268627752,
          1.3268906345189104,
          -1.9978206336987743,
          2.989246268627752,
          -1.9978206336987743,
          1.3268906345189104,
          -0.33546499958993214,
          -0.33546499958993214,
          2.989246268627752,
          2.989246268627752,
          -0.33546499958993214,
          -0.33546499958993214,
          -1.9978206336987743,
          1.3268906345189104,
          4.651601902736594,
          2.989246268627752,
          4.651601902736594,
          -1.9978206336987743,
          4.651601902736594,
          -0.33546499958993214,
          -0.33546499958993214,
          -1.9978206336987743,
          1.3268906345189104,
          4.651601902736594,
          1.3268906345189104,
          -0.33546499958993214,
          4.651601902736594,
          2.989246268627752,
          -1.9978206336987743,
          -0.33546499958993214,
          4.651601902736594,
          2.989246268627752,
          -1.9978206336987743,
          4.651601902736594,
          2.989246268627752,
          4.651601902736594,
          4.651601902736594,
          4.651601902736594,
          1.3268906345189104,
          1.3268906345189104,
          2.989246268627752,
          1.3268906345189104,
          4.651601902736594,
          -1.9978206336987743
         ]
        }
       ],
       "layout": {
        "legend": {
         "bgcolor": "#FFFFFF",
         "font": {
          "color": "#4D5663"
         }
        },
        "paper_bgcolor": "#FFFFFF",
        "plot_bgcolor": "#FFFFFF",
        "title": {
         "font": {
          "color": "#4D5663"
         },
         "text": "Logistic regression"
        },
        "xaxis": {
         "gridcolor": "#E1E5ED",
         "showgrid": true,
         "tickfont": {
          "color": "#4D5663"
         },
         "title": {
          "font": {
           "color": "#4D5663"
          },
          "text": "Predictor variable"
         },
         "zerolinecolor": "#E1E5ED"
        },
        "yaxis": {
         "gridcolor": "#E1E5ED",
         "showgrid": true,
         "tickfont": {
          "color": "#4D5663"
         },
         "title": {
          "font": {
           "color": "#4D5663"
          },
          "text": "logit(p)"
         },
         "zerolinecolor": "#E1E5ED"
        }
       }
      },
      "text/html": [
       "<div>\n",
       "        \n",
       "        \n",
       "            <div id=\"3c28766c-902c-4665-ba33-3b0cfbd07cef\" class=\"plotly-graph-div\" style=\"height:525px; width:100%;\"></div>\n",
       "            <script type=\"text/javascript\">\n",
       "                require([\"plotly\"], function(Plotly) {\n",
       "                    window.PLOTLYENV=window.PLOTLYENV || {};\n",
       "                    window.PLOTLYENV.BASE_URL='https://plot.ly';\n",
       "                    \n",
       "                if (document.getElementById(\"3c28766c-902c-4665-ba33-3b0cfbd07cef\")) {\n",
       "                    Plotly.newPlot(\n",
       "                        '3c28766c-902c-4665-ba33-3b0cfbd07cef',\n",
       "                        [{\"line\": {\"color\": \"rgba(255, 153, 51, 1.0)\", \"dash\": \"solid\", \"shape\": \"linear\", \"width\": 1.3}, \"marker\": {\"size\": 12, \"symbol\": \"circle\"}, \"mode\": \"markers\", \"name\": \"logit\", \"text\": \"\", \"type\": \"scatter\", \"uid\": \"17b99261-5fe2-4e52-8b2e-266989b85732\", \"x\": [5, 4, 3, 4, 4, 5, 1, 3, 3, 3, 5, 5, 2, 1, 1, 5, 2, 3, 5, 3, 2, 4, 1, 1, 5, 5, 2, 3, 3, 1, 4, 5, 3, 5, 5, 1, 3, 2, 5, 4, 1, 1, 4, 5, 3, 1, 5, 5, 5, 2, 1, 4, 2, 1, 1, 4, 4, 3, 1, 4, 1, 3, 2, 2, 4, 4, 2, 2, 1, 3, 5, 4, 5, 1, 5, 2, 2, 1, 3, 5, 3, 2, 5, 4, 1, 2, 5, 4, 1, 5, 4, 5, 5, 5, 3, 3, 4, 3, 5, 1], \"y\": [4.651601902736594, 2.989246268627752, 1.3268906345189104, 2.989246268627752, 2.989246268627752, 4.651601902736594, -1.9978206336987743, 1.3268906345189104, 1.3268906345189104, 1.3268906345189104, 4.651601902736594, 4.651601902736594, -0.33546499958993214, -1.9978206336987743, -1.9978206336987743, 4.651601902736594, -0.33546499958993214, 1.3268906345189104, 4.651601902736594, 1.3268906345189104, -0.33546499958993214, 2.989246268627752, -1.9978206336987743, -1.9978206336987743, 4.651601902736594, 4.651601902736594, -0.33546499958993214, 1.3268906345189104, 1.3268906345189104, -1.9978206336987743, 2.989246268627752, 4.651601902736594, 1.3268906345189104, 4.651601902736594, 4.651601902736594, -1.9978206336987743, 1.3268906345189104, -0.33546499958993214, 4.651601902736594, 2.989246268627752, -1.9978206336987743, -1.9978206336987743, 2.989246268627752, 4.651601902736594, 1.3268906345189104, -1.9978206336987743, 4.651601902736594, 4.651601902736594, 4.651601902736594, -0.33546499958993214, -1.9978206336987743, 2.989246268627752, -0.33546499958993214, -1.9978206336987743, -1.9978206336987743, 2.989246268627752, 2.989246268627752, 1.3268906345189104, -1.9978206336987743, 2.989246268627752, -1.9978206336987743, 1.3268906345189104, -0.33546499958993214, -0.33546499958993214, 2.989246268627752, 2.989246268627752, -0.33546499958993214, -0.33546499958993214, -1.9978206336987743, 1.3268906345189104, 4.651601902736594, 2.989246268627752, 4.651601902736594, -1.9978206336987743, 4.651601902736594, -0.33546499958993214, -0.33546499958993214, -1.9978206336987743, 1.3268906345189104, 4.651601902736594, 1.3268906345189104, -0.33546499958993214, 4.651601902736594, 2.989246268627752, -1.9978206336987743, -0.33546499958993214, 4.651601902736594, 2.989246268627752, -1.9978206336987743, 4.651601902736594, 2.989246268627752, 4.651601902736594, 4.651601902736594, 4.651601902736594, 1.3268906345189104, 1.3268906345189104, 2.989246268627752, 1.3268906345189104, 4.651601902736594, -1.9978206336987743]}],\n",
       "                        {\"legend\": {\"bgcolor\": \"#FFFFFF\", \"font\": {\"color\": \"#4D5663\"}}, \"paper_bgcolor\": \"#FFFFFF\", \"plot_bgcolor\": \"#FFFFFF\", \"title\": {\"font\": {\"color\": \"#4D5663\"}, \"text\": \"Logistic regression\"}, \"xaxis\": {\"gridcolor\": \"#E1E5ED\", \"showgrid\": true, \"tickfont\": {\"color\": \"#4D5663\"}, \"title\": {\"font\": {\"color\": \"#4D5663\"}, \"text\": \"Predictor variable\"}, \"zerolinecolor\": \"#E1E5ED\"}, \"yaxis\": {\"gridcolor\": \"#E1E5ED\", \"showgrid\": true, \"tickfont\": {\"color\": \"#4D5663\"}, \"title\": {\"font\": {\"color\": \"#4D5663\"}, \"text\": \"logit(p)\"}, \"zerolinecolor\": \"#E1E5ED\"}},\n",
       "                        {\"showLink\": true, \"linkText\": \"Export to plot.ly\", \"plotlyServerURL\": \"https://plot.ly\", \"responsive\": true}\n",
       "                    ).then(function(){\n",
       "                            \n",
       "var gd = document.getElementById('3c28766c-902c-4665-ba33-3b0cfbd07cef');\n",
       "var x = new MutationObserver(function (mutations, observer) {{\n",
       "        var display = window.getComputedStyle(gd).display;\n",
       "        if (!display || display === 'none') {{\n",
       "            console.log([gd, 'removed!']);\n",
       "            Plotly.purge(gd);\n",
       "            observer.disconnect();\n",
       "        }}\n",
       "}});\n",
       "\n",
       "// Listen for the removal of the full notebook cells\n",
       "var notebookContainer = gd.closest('#notebook-container');\n",
       "if (notebookContainer) {{\n",
       "    x.observe(notebookContainer, {childList: true});\n",
       "}}\n",
       "\n",
       "// Listen for the clearing of the current output cell\n",
       "var outputEl = gd.closest('.output');\n",
       "if (outputEl) {{\n",
       "    x.observe(outputEl, {childList: true});\n",
       "}}\n",
       "\n",
       "                        })\n",
       "                };\n",
       "                });\n",
       "            </script>\n",
       "        </div>"
      ]
     },
     "metadata": {},
     "output_type": "display_data"
    }
   ],
   "source": [
    "def logit(x):\n",
    "    return model.intercept_[0] + x*model.coef_[0][0]\n",
    "    \n",
    "df['logit'] = df['x'].apply(lambda x: logit(x))\n",
    "\n",
    "df[['x', 'logit']].set_index('x').iplot(kind='scatter', mode='markers', \n",
    "                                        color='orange', theme='white',\n",
    "                                        title='Logistic regression',\n",
    "                                        xTitle='Predictor variable', \n",
    "                                        yTitle='logit(p)')"
   ]
  },
  {
   "cell_type": "markdown",
   "metadata": {},
   "source": [
    "Note that the logistic regression is a linear function that has no specifc range - it can go from $(-\\infty, \\infty)$.\n",
    "\n",
    "We can check the probability function estimated by the model doing the inverse transformation: \n",
    "\n",
    "$$\\hat{p} = \\frac{1}{1 + \\exp{(-\\beta X)}}$$"
   ]
  },
  {
   "cell_type": "code",
   "execution_count": 72,
   "metadata": {},
   "outputs": [
    {
     "data": {
      "text/plain": [
       "0    0.990544\n",
       "1    0.952086\n",
       "2    0.790326\n",
       "3    0.952086\n",
       "4    0.952086\n",
       "Name: inv_logit, dtype: float64"
      ]
     },
     "execution_count": 72,
     "metadata": {},
     "output_type": "execute_result"
    }
   ],
   "source": [
    "def inv_logit(x): \n",
    "    beta_x = logit(x)\n",
    "    return 1 / (1 + np.e**(-beta_x))\n",
    "\n",
    "df['inv_logit'] = df['x'].apply(lambda x: inv_logit(x))\n",
    "df['inv_logit'].head()"
   ]
  },
  {
   "cell_type": "code",
   "execution_count": 73,
   "metadata": {},
   "outputs": [
    {
     "data": {
      "application/vnd.plotly.v1+json": {
       "config": {
        "linkText": "Export to plot.ly",
        "plotlyServerURL": "https://plot.ly",
        "showLink": true
       },
       "data": [
        {
         "line": {
          "color": "rgba(0, 128, 0, 1.0)",
          "dash": "solid",
          "shape": "linear",
          "width": 1.3
         },
         "marker": {
          "size": 12,
          "symbol": "circle"
         },
         "mode": "markers",
         "name": "inv_logit",
         "text": "",
         "type": "scatter",
         "uid": "7fc85742-72db-4bc4-8733-e6316e28fe82",
         "x": [
          5,
          4,
          3,
          4,
          4,
          5,
          1,
          3,
          3,
          3,
          5,
          5,
          2,
          1,
          1,
          5,
          2,
          3,
          5,
          3,
          2,
          4,
          1,
          1,
          5,
          5,
          2,
          3,
          3,
          1,
          4,
          5,
          3,
          5,
          5,
          1,
          3,
          2,
          5,
          4,
          1,
          1,
          4,
          5,
          3,
          1,
          5,
          5,
          5,
          2,
          1,
          4,
          2,
          1,
          1,
          4,
          4,
          3,
          1,
          4,
          1,
          3,
          2,
          2,
          4,
          4,
          2,
          2,
          1,
          3,
          5,
          4,
          5,
          1,
          5,
          2,
          2,
          1,
          3,
          5,
          3,
          2,
          5,
          4,
          1,
          2,
          5,
          4,
          1,
          5,
          4,
          5,
          5,
          5,
          3,
          3,
          4,
          3,
          5,
          1
         ],
         "y": [
          0.9905439726143102,
          0.9520859379166637,
          0.7903258441527962,
          0.9520859379166637,
          0.9520859379166637,
          0.9905439726143102,
          0.11943193146744395,
          0.7903258441527962,
          0.7903258441527962,
          0.7903258441527962,
          0.9905439726143102,
          0.9905439726143102,
          0.41691150175276187,
          0.11943193146744395,
          0.11943193146744395,
          0.9905439726143102,
          0.41691150175276187,
          0.7903258441527962,
          0.9905439726143102,
          0.7903258441527962,
          0.41691150175276187,
          0.9520859379166637,
          0.11943193146744395,
          0.11943193146744395,
          0.9905439726143102,
          0.9905439726143102,
          0.41691150175276187,
          0.7903258441527962,
          0.7903258441527962,
          0.11943193146744395,
          0.9520859379166637,
          0.9905439726143102,
          0.7903258441527962,
          0.9905439726143102,
          0.9905439726143102,
          0.11943193146744395,
          0.7903258441527962,
          0.41691150175276187,
          0.9905439726143102,
          0.9520859379166637,
          0.11943193146744395,
          0.11943193146744395,
          0.9520859379166637,
          0.9905439726143102,
          0.7903258441527962,
          0.11943193146744395,
          0.9905439726143102,
          0.9905439726143102,
          0.9905439726143102,
          0.41691150175276187,
          0.11943193146744395,
          0.9520859379166637,
          0.41691150175276187,
          0.11943193146744395,
          0.11943193146744395,
          0.9520859379166637,
          0.9520859379166637,
          0.7903258441527962,
          0.11943193146744395,
          0.9520859379166637,
          0.11943193146744395,
          0.7903258441527962,
          0.41691150175276187,
          0.41691150175276187,
          0.9520859379166637,
          0.9520859379166637,
          0.41691150175276187,
          0.41691150175276187,
          0.11943193146744395,
          0.7903258441527962,
          0.9905439726143102,
          0.9520859379166637,
          0.9905439726143102,
          0.11943193146744395,
          0.9905439726143102,
          0.41691150175276187,
          0.41691150175276187,
          0.11943193146744395,
          0.7903258441527962,
          0.9905439726143102,
          0.7903258441527962,
          0.41691150175276187,
          0.9905439726143102,
          0.9520859379166637,
          0.11943193146744395,
          0.41691150175276187,
          0.9905439726143102,
          0.9520859379166637,
          0.11943193146744395,
          0.9905439726143102,
          0.9520859379166637,
          0.9905439726143102,
          0.9905439726143102,
          0.9905439726143102,
          0.7903258441527962,
          0.7903258441527962,
          0.9520859379166637,
          0.7903258441527962,
          0.9905439726143102,
          0.11943193146744395
         ]
        }
       ],
       "layout": {
        "legend": {
         "bgcolor": "#FFFFFF",
         "font": {
          "color": "#4D5663"
         }
        },
        "paper_bgcolor": "#FFFFFF",
        "plot_bgcolor": "#FFFFFF",
        "title": {
         "font": {
          "color": "#4D5663"
         },
         "text": "Estimated probability"
        },
        "xaxis": {
         "gridcolor": "#E1E5ED",
         "showgrid": true,
         "tickfont": {
          "color": "#4D5663"
         },
         "title": {
          "font": {
           "color": "#4D5663"
          },
          "text": "Predictor variable"
         },
         "zerolinecolor": "#E1E5ED"
        },
        "yaxis": {
         "gridcolor": "#E1E5ED",
         "showgrid": true,
         "tickfont": {
          "color": "#4D5663"
         },
         "title": {
          "font": {
           "color": "#4D5663"
          },
          "text": "p estimated"
         },
         "zerolinecolor": "#E1E5ED"
        }
       }
      },
      "text/html": [
       "<div>\n",
       "        \n",
       "        \n",
       "            <div id=\"328f18ff-8aed-4556-a54c-c0d23867ea53\" class=\"plotly-graph-div\" style=\"height:525px; width:100%;\"></div>\n",
       "            <script type=\"text/javascript\">\n",
       "                require([\"plotly\"], function(Plotly) {\n",
       "                    window.PLOTLYENV=window.PLOTLYENV || {};\n",
       "                    window.PLOTLYENV.BASE_URL='https://plot.ly';\n",
       "                    \n",
       "                if (document.getElementById(\"328f18ff-8aed-4556-a54c-c0d23867ea53\")) {\n",
       "                    Plotly.newPlot(\n",
       "                        '328f18ff-8aed-4556-a54c-c0d23867ea53',\n",
       "                        [{\"line\": {\"color\": \"rgba(0, 128, 0, 1.0)\", \"dash\": \"solid\", \"shape\": \"linear\", \"width\": 1.3}, \"marker\": {\"size\": 12, \"symbol\": \"circle\"}, \"mode\": \"markers\", \"name\": \"inv_logit\", \"text\": \"\", \"type\": \"scatter\", \"uid\": \"7fc85742-72db-4bc4-8733-e6316e28fe82\", \"x\": [5, 4, 3, 4, 4, 5, 1, 3, 3, 3, 5, 5, 2, 1, 1, 5, 2, 3, 5, 3, 2, 4, 1, 1, 5, 5, 2, 3, 3, 1, 4, 5, 3, 5, 5, 1, 3, 2, 5, 4, 1, 1, 4, 5, 3, 1, 5, 5, 5, 2, 1, 4, 2, 1, 1, 4, 4, 3, 1, 4, 1, 3, 2, 2, 4, 4, 2, 2, 1, 3, 5, 4, 5, 1, 5, 2, 2, 1, 3, 5, 3, 2, 5, 4, 1, 2, 5, 4, 1, 5, 4, 5, 5, 5, 3, 3, 4, 3, 5, 1], \"y\": [0.9905439726143102, 0.9520859379166637, 0.7903258441527962, 0.9520859379166637, 0.9520859379166637, 0.9905439726143102, 0.11943193146744395, 0.7903258441527962, 0.7903258441527962, 0.7903258441527962, 0.9905439726143102, 0.9905439726143102, 0.41691150175276187, 0.11943193146744395, 0.11943193146744395, 0.9905439726143102, 0.41691150175276187, 0.7903258441527962, 0.9905439726143102, 0.7903258441527962, 0.41691150175276187, 0.9520859379166637, 0.11943193146744395, 0.11943193146744395, 0.9905439726143102, 0.9905439726143102, 0.41691150175276187, 0.7903258441527962, 0.7903258441527962, 0.11943193146744395, 0.9520859379166637, 0.9905439726143102, 0.7903258441527962, 0.9905439726143102, 0.9905439726143102, 0.11943193146744395, 0.7903258441527962, 0.41691150175276187, 0.9905439726143102, 0.9520859379166637, 0.11943193146744395, 0.11943193146744395, 0.9520859379166637, 0.9905439726143102, 0.7903258441527962, 0.11943193146744395, 0.9905439726143102, 0.9905439726143102, 0.9905439726143102, 0.41691150175276187, 0.11943193146744395, 0.9520859379166637, 0.41691150175276187, 0.11943193146744395, 0.11943193146744395, 0.9520859379166637, 0.9520859379166637, 0.7903258441527962, 0.11943193146744395, 0.9520859379166637, 0.11943193146744395, 0.7903258441527962, 0.41691150175276187, 0.41691150175276187, 0.9520859379166637, 0.9520859379166637, 0.41691150175276187, 0.41691150175276187, 0.11943193146744395, 0.7903258441527962, 0.9905439726143102, 0.9520859379166637, 0.9905439726143102, 0.11943193146744395, 0.9905439726143102, 0.41691150175276187, 0.41691150175276187, 0.11943193146744395, 0.7903258441527962, 0.9905439726143102, 0.7903258441527962, 0.41691150175276187, 0.9905439726143102, 0.9520859379166637, 0.11943193146744395, 0.41691150175276187, 0.9905439726143102, 0.9520859379166637, 0.11943193146744395, 0.9905439726143102, 0.9520859379166637, 0.9905439726143102, 0.9905439726143102, 0.9905439726143102, 0.7903258441527962, 0.7903258441527962, 0.9520859379166637, 0.7903258441527962, 0.9905439726143102, 0.11943193146744395]}],\n",
       "                        {\"legend\": {\"bgcolor\": \"#FFFFFF\", \"font\": {\"color\": \"#4D5663\"}}, \"paper_bgcolor\": \"#FFFFFF\", \"plot_bgcolor\": \"#FFFFFF\", \"title\": {\"font\": {\"color\": \"#4D5663\"}, \"text\": \"Estimated probability\"}, \"xaxis\": {\"gridcolor\": \"#E1E5ED\", \"showgrid\": true, \"tickfont\": {\"color\": \"#4D5663\"}, \"title\": {\"font\": {\"color\": \"#4D5663\"}, \"text\": \"Predictor variable\"}, \"zerolinecolor\": \"#E1E5ED\"}, \"yaxis\": {\"gridcolor\": \"#E1E5ED\", \"showgrid\": true, \"tickfont\": {\"color\": \"#4D5663\"}, \"title\": {\"font\": {\"color\": \"#4D5663\"}, \"text\": \"p estimated\"}, \"zerolinecolor\": \"#E1E5ED\"}},\n",
       "                        {\"showLink\": true, \"linkText\": \"Export to plot.ly\", \"plotlyServerURL\": \"https://plot.ly\", \"responsive\": true}\n",
       "                    ).then(function(){\n",
       "                            \n",
       "var gd = document.getElementById('328f18ff-8aed-4556-a54c-c0d23867ea53');\n",
       "var x = new MutationObserver(function (mutations, observer) {{\n",
       "        var display = window.getComputedStyle(gd).display;\n",
       "        if (!display || display === 'none') {{\n",
       "            console.log([gd, 'removed!']);\n",
       "            Plotly.purge(gd);\n",
       "            observer.disconnect();\n",
       "        }}\n",
       "}});\n",
       "\n",
       "// Listen for the removal of the full notebook cells\n",
       "var notebookContainer = gd.closest('#notebook-container');\n",
       "if (notebookContainer) {{\n",
       "    x.observe(notebookContainer, {childList: true});\n",
       "}}\n",
       "\n",
       "// Listen for the clearing of the current output cell\n",
       "var outputEl = gd.closest('.output');\n",
       "if (outputEl) {{\n",
       "    x.observe(outputEl, {childList: true});\n",
       "}}\n",
       "\n",
       "                        })\n",
       "                };\n",
       "                });\n",
       "            </script>\n",
       "        </div>"
      ]
     },
     "metadata": {},
     "output_type": "display_data"
    }
   ],
   "source": [
    "df[['x', 'inv_logit']].set_index('x').iplot(kind='scatter', mode='markers', \n",
    "                                            color='green', theme='white',\n",
    "                                            title='Estimated probability', \n",
    "                                            xTitle='Predictor variable', \n",
    "                                            yTitle='p estimated')"
   ]
  },
  {
   "cell_type": "markdown",
   "metadata": {},
   "source": [
    "Although $x$ is a categorical variable, we've put in more values in between $[1,5]$ for better visualize the shape of the function:"
   ]
  },
  {
   "cell_type": "code",
   "execution_count": 79,
   "metadata": {},
   "outputs": [
    {
     "data": {
      "application/vnd.plotly.v1+json": {
       "config": {
        "linkText": "Export to plot.ly",
        "plotlyServerURL": "https://plot.ly",
        "showLink": true
       },
       "data": [
        {
         "line": {
          "color": "rgba(0, 128, 0, 1.0)",
          "dash": "solid",
          "shape": "linear",
          "width": 1.3
         },
         "mode": "lines",
         "name": "inv_logit",
         "text": "",
         "type": "scatter",
         "uid": "19f9adb8-f5d3-447f-9545-e2e6d8fd25e3",
         "x": [
          1,
          1.0404040404040404,
          1.0808080808080809,
          1.121212121212121,
          1.1616161616161615,
          1.202020202020202,
          1.2424242424242424,
          1.2828282828282829,
          1.3232323232323233,
          1.3636363636363638,
          1.404040404040404,
          1.4444444444444444,
          1.4848484848484849,
          1.5252525252525253,
          1.5656565656565657,
          1.606060606060606,
          1.6464646464646466,
          1.6868686868686869,
          1.7272727272727273,
          1.7676767676767677,
          1.8080808080808082,
          1.8484848484848486,
          1.8888888888888888,
          1.9292929292929295,
          1.9696969696969697,
          2.0101010101010104,
          2.0505050505050506,
          2.090909090909091,
          2.1313131313131315,
          2.1717171717171717,
          2.212121212121212,
          2.2525252525252526,
          2.2929292929292933,
          2.3333333333333335,
          2.3737373737373737,
          2.4141414141414144,
          2.4545454545454546,
          2.494949494949495,
          2.5353535353535355,
          2.575757575757576,
          2.6161616161616164,
          2.6565656565656566,
          2.6969696969696972,
          2.7373737373737375,
          2.7777777777777777,
          2.8181818181818183,
          2.858585858585859,
          2.8989898989898992,
          2.9393939393939394,
          2.97979797979798,
          3.0202020202020203,
          3.060606060606061,
          3.101010101010101,
          3.1414141414141414,
          3.181818181818182,
          3.2222222222222223,
          3.262626262626263,
          3.303030303030303,
          3.3434343434343434,
          3.383838383838384,
          3.4242424242424243,
          3.464646464646465,
          3.505050505050505,
          3.545454545454546,
          3.585858585858586,
          3.6262626262626263,
          3.666666666666667,
          3.707070707070707,
          3.747474747474748,
          3.787878787878788,
          3.8282828282828287,
          3.868686868686869,
          3.909090909090909,
          3.94949494949495,
          3.98989898989899,
          4.030303030303031,
          4.070707070707071,
          4.111111111111111,
          4.151515151515152,
          4.191919191919192,
          4.232323232323233,
          4.272727272727273,
          4.313131313131313,
          4.353535353535354,
          4.3939393939393945,
          4.434343434343434,
          4.474747474747475,
          4.515151515151516,
          4.555555555555555,
          4.595959595959597,
          4.636363636363637,
          4.6767676767676765,
          4.717171717171718,
          4.757575757575758,
          4.7979797979797985,
          4.838383838383839,
          4.878787878787879,
          4.91919191919192,
          4.95959595959596,
          5
         ],
         "y": [
          0.11943193146744395,
          0.12667812696837236,
          0.13429691432740298,
          0.14229925571455276,
          0.15069542805166086,
          0.15949488139142007,
          0.16870608967595074,
          0.17833639515777705,
          0.1883918480984023,
          0.19887704370528309,
          0.2097949586173468,
          0.2211467895906049,
          0.23293179735515773,
          0.24514715889749217,
          0.257787831650667,
          0.2708464332323542,
          0.28431314043954586,
          0.2981756111730358,
          0.31241893281088146,
          0.32702560026777017,
          0.3419755265611349,
          0.35724608815524395,
          0.37281220667821646,
          0.3886464678179053,
          0.4047192773219132,
          0.4209990530824486,
          0.43745245131179433,
          0.454044623846722,
          0.47073950270039067,
          0.4875001071484922,
          0.5042888679306613,
          0.5210679626017655,
          0.5377996557070793,
          0.5544466372982035,
          0.5709723533607128,
          0.5873413219872299,
          0.6035194295879357,
          0.6194742020621153,
          0.6351750466289785,
          0.6505934608976875,
          0.6657032067057527,
          0.6804804472311383,
          0.6949038468473371,
          0.7089546341064554,
          0.7226166290722593,
          0.7358762369587383,
          0.7487224106426028,
          0.7611465850999665,
          0.7731425871648352,
          0.7847065242227281,
          0.7958366555447545,
          0.8065332499478849,
          0.8167984333509821,
          0.8266360296001688,
          0.8360513976787205,
          0.845051268113068,
          0.853643581053851,
          0.8618373281639106,
          0.8696424000963505,
          0.8770694410059191,
          0.8841297112143791,
          0.8908349588515494,
          0.8971973010226632,
          0.9032291148122237,
          0.9089429382257382,
          0.9143513809934989,
          0.9194670450138499,
          0.9243024540953348,
          0.9288699925654486,
          0.9331818522457747,
          0.9372499872463069,
          0.9410860760028917,
          0.9447014899682559,
          0.948107268366394,
          0.95131409842978,
          0.9543323005567484,
          0.9571718178505529,
          0.9598422095303268,
          0.9623526477360281,
          0.9647119172832068,
          0.9669284179580908,
          0.9690101689782002,
          0.9709648152778677,
          0.9727996353111024,
          0.9745215500958698,
          0.9761371332537635,
          0.9776526218270608,
          0.9790739276811883,
          0.9804066493246162,
          0.981656084000175,
          0.9828272399217832,
          0.983924848548665,
          0.9849533768054017,
          0.9859170391707299,
          0.9868198095709539,
          0.9876654330253262,
          0.988457437000872,
          0.9891991424430044,
          0.9898936744560238,
          0.9905439726143102
         ]
        }
       ],
       "layout": {
        "legend": {
         "bgcolor": "#FFFFFF",
         "font": {
          "color": "#4D5663"
         }
        },
        "paper_bgcolor": "#FFFFFF",
        "plot_bgcolor": "#FFFFFF",
        "title": {
         "font": {
          "color": "#4D5663"
         },
         "text": "Estimated probability"
        },
        "xaxis": {
         "gridcolor": "#E1E5ED",
         "showgrid": true,
         "tickfont": {
          "color": "#4D5663"
         },
         "title": {
          "font": {
           "color": "#4D5663"
          },
          "text": "Predictor variable"
         },
         "zerolinecolor": "#E1E5ED"
        },
        "yaxis": {
         "gridcolor": "#E1E5ED",
         "showgrid": true,
         "tickfont": {
          "color": "#4D5663"
         },
         "title": {
          "font": {
           "color": "#4D5663"
          },
          "text": "p estimated"
         },
         "zerolinecolor": "#E1E5ED"
        }
       }
      },
      "text/html": [
       "<div>\n",
       "        \n",
       "        \n",
       "            <div id=\"37444f7e-0841-4e11-9558-40cab5c1fbf8\" class=\"plotly-graph-div\" style=\"height:525px; width:100%;\"></div>\n",
       "            <script type=\"text/javascript\">\n",
       "                require([\"plotly\"], function(Plotly) {\n",
       "                    window.PLOTLYENV=window.PLOTLYENV || {};\n",
       "                    window.PLOTLYENV.BASE_URL='https://plot.ly';\n",
       "                    \n",
       "                if (document.getElementById(\"37444f7e-0841-4e11-9558-40cab5c1fbf8\")) {\n",
       "                    Plotly.newPlot(\n",
       "                        '37444f7e-0841-4e11-9558-40cab5c1fbf8',\n",
       "                        [{\"line\": {\"color\": \"rgba(0, 128, 0, 1.0)\", \"dash\": \"solid\", \"shape\": \"linear\", \"width\": 1.3}, \"mode\": \"lines\", \"name\": \"inv_logit\", \"text\": \"\", \"type\": \"scatter\", \"uid\": \"19f9adb8-f5d3-447f-9545-e2e6d8fd25e3\", \"x\": [1.0, 1.0404040404040404, 1.0808080808080809, 1.121212121212121, 1.1616161616161615, 1.202020202020202, 1.2424242424242424, 1.2828282828282829, 1.3232323232323233, 1.3636363636363638, 1.404040404040404, 1.4444444444444444, 1.4848484848484849, 1.5252525252525253, 1.5656565656565657, 1.606060606060606, 1.6464646464646466, 1.6868686868686869, 1.7272727272727273, 1.7676767676767677, 1.8080808080808082, 1.8484848484848486, 1.8888888888888888, 1.9292929292929295, 1.9696969696969697, 2.0101010101010104, 2.0505050505050506, 2.090909090909091, 2.1313131313131315, 2.1717171717171717, 2.212121212121212, 2.2525252525252526, 2.2929292929292933, 2.3333333333333335, 2.3737373737373737, 2.4141414141414144, 2.4545454545454546, 2.494949494949495, 2.5353535353535355, 2.575757575757576, 2.6161616161616164, 2.6565656565656566, 2.6969696969696972, 2.7373737373737375, 2.7777777777777777, 2.8181818181818183, 2.858585858585859, 2.8989898989898992, 2.9393939393939394, 2.97979797979798, 3.0202020202020203, 3.060606060606061, 3.101010101010101, 3.1414141414141414, 3.181818181818182, 3.2222222222222223, 3.262626262626263, 3.303030303030303, 3.3434343434343434, 3.383838383838384, 3.4242424242424243, 3.464646464646465, 3.505050505050505, 3.545454545454546, 3.585858585858586, 3.6262626262626263, 3.666666666666667, 3.707070707070707, 3.747474747474748, 3.787878787878788, 3.8282828282828287, 3.868686868686869, 3.909090909090909, 3.94949494949495, 3.98989898989899, 4.030303030303031, 4.070707070707071, 4.111111111111111, 4.151515151515152, 4.191919191919192, 4.232323232323233, 4.272727272727273, 4.313131313131313, 4.353535353535354, 4.3939393939393945, 4.434343434343434, 4.474747474747475, 4.515151515151516, 4.555555555555555, 4.595959595959597, 4.636363636363637, 4.6767676767676765, 4.717171717171718, 4.757575757575758, 4.7979797979797985, 4.838383838383839, 4.878787878787879, 4.91919191919192, 4.95959595959596, 5.0], \"y\": [0.11943193146744395, 0.12667812696837236, 0.13429691432740298, 0.14229925571455276, 0.15069542805166086, 0.15949488139142007, 0.16870608967595074, 0.17833639515777705, 0.1883918480984023, 0.19887704370528309, 0.2097949586173468, 0.2211467895906049, 0.23293179735515773, 0.24514715889749217, 0.257787831650667, 0.2708464332323542, 0.28431314043954586, 0.2981756111730358, 0.31241893281088146, 0.32702560026777017, 0.3419755265611349, 0.35724608815524395, 0.37281220667821646, 0.3886464678179053, 0.4047192773219132, 0.4209990530824486, 0.43745245131179433, 0.454044623846722, 0.47073950270039067, 0.4875001071484922, 0.5042888679306613, 0.5210679626017655, 0.5377996557070793, 0.5544466372982035, 0.5709723533607128, 0.5873413219872299, 0.6035194295879357, 0.6194742020621153, 0.6351750466289785, 0.6505934608976875, 0.6657032067057527, 0.6804804472311383, 0.6949038468473371, 0.7089546341064554, 0.7226166290722593, 0.7358762369587383, 0.7487224106426028, 0.7611465850999665, 0.7731425871648352, 0.7847065242227281, 0.7958366555447545, 0.8065332499478849, 0.8167984333509821, 0.8266360296001688, 0.8360513976787205, 0.845051268113068, 0.853643581053851, 0.8618373281639106, 0.8696424000963505, 0.8770694410059191, 0.8841297112143791, 0.8908349588515494, 0.8971973010226632, 0.9032291148122237, 0.9089429382257382, 0.9143513809934989, 0.9194670450138499, 0.9243024540953348, 0.9288699925654486, 0.9331818522457747, 0.9372499872463069, 0.9410860760028917, 0.9447014899682559, 0.948107268366394, 0.95131409842978, 0.9543323005567484, 0.9571718178505529, 0.9598422095303268, 0.9623526477360281, 0.9647119172832068, 0.9669284179580908, 0.9690101689782002, 0.9709648152778677, 0.9727996353111024, 0.9745215500958698, 0.9761371332537635, 0.9776526218270608, 0.9790739276811883, 0.9804066493246162, 0.981656084000175, 0.9828272399217832, 0.983924848548665, 0.9849533768054017, 0.9859170391707299, 0.9868198095709539, 0.9876654330253262, 0.988457437000872, 0.9891991424430044, 0.9898936744560238, 0.9905439726143102]}],\n",
       "                        {\"legend\": {\"bgcolor\": \"#FFFFFF\", \"font\": {\"color\": \"#4D5663\"}}, \"paper_bgcolor\": \"#FFFFFF\", \"plot_bgcolor\": \"#FFFFFF\", \"title\": {\"font\": {\"color\": \"#4D5663\"}, \"text\": \"Estimated probability\"}, \"xaxis\": {\"gridcolor\": \"#E1E5ED\", \"showgrid\": true, \"tickfont\": {\"color\": \"#4D5663\"}, \"title\": {\"font\": {\"color\": \"#4D5663\"}, \"text\": \"Predictor variable\"}, \"zerolinecolor\": \"#E1E5ED\"}, \"yaxis\": {\"gridcolor\": \"#E1E5ED\", \"showgrid\": true, \"tickfont\": {\"color\": \"#4D5663\"}, \"title\": {\"font\": {\"color\": \"#4D5663\"}, \"text\": \"p estimated\"}, \"zerolinecolor\": \"#E1E5ED\"}},\n",
       "                        {\"showLink\": true, \"linkText\": \"Export to plot.ly\", \"plotlyServerURL\": \"https://plot.ly\", \"responsive\": true}\n",
       "                    ).then(function(){\n",
       "                            \n",
       "var gd = document.getElementById('37444f7e-0841-4e11-9558-40cab5c1fbf8');\n",
       "var x = new MutationObserver(function (mutations, observer) {{\n",
       "        var display = window.getComputedStyle(gd).display;\n",
       "        if (!display || display === 'none') {{\n",
       "            console.log([gd, 'removed!']);\n",
       "            Plotly.purge(gd);\n",
       "            observer.disconnect();\n",
       "        }}\n",
       "}});\n",
       "\n",
       "// Listen for the removal of the full notebook cells\n",
       "var notebookContainer = gd.closest('#notebook-container');\n",
       "if (notebookContainer) {{\n",
       "    x.observe(notebookContainer, {childList: true});\n",
       "}}\n",
       "\n",
       "// Listen for the clearing of the current output cell\n",
       "var outputEl = gd.closest('.output');\n",
       "if (outputEl) {{\n",
       "    x.observe(outputEl, {childList: true});\n",
       "}}\n",
       "\n",
       "                        })\n",
       "                };\n",
       "                });\n",
       "            </script>\n",
       "        </div>"
      ]
     },
     "metadata": {},
     "output_type": "display_data"
    }
   ],
   "source": [
    "xvalues = np.linspace(1, 5, 100)\n",
    "inv_logit_xvalues = [inv_logit(x) for x in xvalues]\n",
    "\n",
    "df_ex = pd.DataFrame(data=np.array([xvalues, logit_xvalues, inv_logit_xvalues]).T, \n",
    "                     columns=['x', 'logit', 'inv_logit'])\n",
    "\n",
    "df_ex[['x', 'inv_logit']].set_index('x').iplot(kind='scatter', mode='lines', \n",
    "                                               color='green', theme='white',\n",
    "                                               title='Estimated probability', \n",
    "                                               xTitle='Predictor variable', \n",
    "                                               yTitle='p estimated')"
   ]
  },
  {
   "cell_type": "markdown",
   "metadata": {},
   "source": [
    "This is the usual plot we see as the relationship of the estimated probability and our predictor variable, and we can see that the relationship of those two is not linear, but exponential."
   ]
  },
  {
   "cell_type": "markdown",
   "metadata": {},
   "source": [
    "* Which is the point that gives us the separation of positive and negative outcomes?\n",
    "\n",
    "$$ logit(\\hat{p}) = log(\\frac{p}{1-p}) = -\\beta X \\\\ p = 0.5 \\rightarrow log(\\frac{0.5}{1-0.5}) = log(1) = 0$$\n",
    "\n",
    "So we need to find the point at which the value of $logit(\\hat{p}) = \\beta X = 0$. Going back to our coeficientts, we can see that:\n",
    "\n",
    "$$-\\beta X = 0 \\rightarrow -3.66 + 1.66 x = 0 \\rightarrow x \\approx 2.205$$"
   ]
  },
  {
   "cell_type": "code",
   "execution_count": 88,
   "metadata": {},
   "outputs": [
    {
     "data": {
      "text/plain": [
       "0.005317905402380418"
      ]
     },
     "execution_count": 88,
     "metadata": {},
     "output_type": "execute_result"
    }
   ],
   "source": [
    "logit(2.205)"
   ]
  },
  {
   "cell_type": "markdown",
   "metadata": {},
   "source": [
    "Great! We've found the \"turning point\", and we can check also that $\\hat{p} = logit^{-1}(\\beta X) = 0.5$:"
   ]
  },
  {
   "cell_type": "code",
   "execution_count": 81,
   "metadata": {},
   "outputs": [
    {
     "data": {
      "text/plain": [
       "0.5013294732174584"
      ]
     },
     "execution_count": 81,
     "metadata": {},
     "output_type": "execute_result"
    }
   ],
   "source": [
    "inv_logit(2.205)"
   ]
  }
 ],
 "metadata": {
  "kernelspec": {
   "display_name": "Python 3",
   "language": "python",
   "name": "python3"
  },
  "language_info": {
   "codemirror_mode": {
    "name": "ipython",
    "version": 3
   },
   "file_extension": ".py",
   "mimetype": "text/x-python",
   "name": "python",
   "nbconvert_exporter": "python",
   "pygments_lexer": "ipython3",
   "version": "3.7.4"
  },
  "toc": {
   "base_numbering": 1,
   "nav_menu": {},
   "number_sections": true,
   "sideBar": true,
   "skip_h1_title": true,
   "title_cell": "Table of Contents",
   "title_sidebar": "Contents",
   "toc_cell": true,
   "toc_position": {},
   "toc_section_display": true,
   "toc_window_display": false
  }
 },
 "nbformat": 4,
 "nbformat_minor": 2
}
