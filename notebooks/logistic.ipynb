{
 "cells": [
  {
   "cell_type": "markdown",
   "metadata": {},
   "source": [
    "# Logistic regression\n",
    "\n",
    "----\n",
    "\n",
    "This kind of model tries to deal with binary outcomes. It's a generalized linear model: the basic ideia is that we know well how to model continuous outcome from linear regression, so we'll try to fit our binary outcome with a continuous function that, with some transformations, can be linearized given our preditor variables.\n",
    "\n",
    "Each outcome $y_i$ is believed to follow a Bernoulli distribuiton given by:\n",
    "\n",
    "$$ \\Pr(y_i = 1) = p$$\n",
    "\n",
    "Our model will try to estimate a probability $p_i$ given a called $logit$ - which is modeled as a linear function of the predictors:\n",
    "\n",
    "$$ logit(\\hat{p}) = \\beta X \\rightarrow \\hat{p} = logit^{-1}(\\beta X) = \\frac{1}{1 + \\beta X}$$\n",
    "\n",
    "The $logit^{-1}$ is a sigmoid function that is steppest at $logit^{-1}(0.5)$ - one can interpret it thinking about the probability of $y_i = 1$, values above $0.5$ are believed to have a positive outcome since we're try to model the expected value [1] as a \"turning point\", because that's no such thing as a $0.5$ outcome.\n",
    "\n",
    "[1] $E(p) = \\frac{1+0}{2} = 0.5$\n",
    "\n",
    "## References\n",
    "\n",
    "- [Gelman, A., & Hill, J. (2006). Data analysis using regression and multilevel/hierarchical models. Cambridge university press.](https://www.cambridge.org/core/books/data-analysis-using-regression-and-multilevelhierarchical-models/32A29531C7FD730C3A68951A17C9D983)"
   ]
  },
  {
   "cell_type": "markdown",
   "metadata": {
    "toc": true
   },
   "source": [
    "<h1>Table of Contents<span class=\"tocSkip\"></span></h1>\n",
    "<div class=\"toc\"><ul class=\"toc-item\"><li><span><a href=\"#References\" data-toc-modified-id=\"References-1\"><span class=\"toc-item-num\">1&nbsp;&nbsp;</span>References</a></span></li><li><span><a href=\"#Example:-One-predictor\" data-toc-modified-id=\"Example:-One-predictor-2\"><span class=\"toc-item-num\">2&nbsp;&nbsp;</span>Example: One predictor</a></span></li></ul></div>"
   ]
  },
  {
   "cell_type": "code",
   "execution_count": 1,
   "metadata": {},
   "outputs": [
    {
     "data": {
      "text/html": [
       "        <script type=\"text/javascript\">\n",
       "        window.PlotlyConfig = {MathJaxConfig: 'local'};\n",
       "        if (window.MathJax) {MathJax.Hub.Config({SVG: {font: \"STIX-Web\"}});}\n",
       "        if (typeof require !== 'undefined') {\n",
       "        require.undef(\"plotly\");\n",
       "        requirejs.config({\n",
       "            paths: {\n",
       "                'plotly': ['https://cdn.plot.ly/plotly-latest.min']\n",
       "            }\n",
       "        });\n",
       "        require(['plotly'], function(Plotly) {\n",
       "            window._Plotly = Plotly;\n",
       "        });\n",
       "        }\n",
       "        </script>\n",
       "        "
      ]
     },
     "metadata": {},
     "output_type": "display_data"
    },
    {
     "data": {
      "text/html": [
       "        <script type=\"text/javascript\">\n",
       "        window.PlotlyConfig = {MathJaxConfig: 'local'};\n",
       "        if (window.MathJax) {MathJax.Hub.Config({SVG: {font: \"STIX-Web\"}});}\n",
       "        if (typeof require !== 'undefined') {\n",
       "        require.undef(\"plotly\");\n",
       "        requirejs.config({\n",
       "            paths: {\n",
       "                'plotly': ['https://cdn.plot.ly/plotly-latest.min']\n",
       "            }\n",
       "        });\n",
       "        require(['plotly'], function(Plotly) {\n",
       "            window._Plotly = Plotly;\n",
       "        });\n",
       "        }\n",
       "        </script>\n",
       "        "
      ]
     },
     "metadata": {},
     "output_type": "display_data"
    }
   ],
   "source": [
    "# %load first_cell.py\n",
    "%reload_ext autoreload\n",
    "%autoreload 2\n",
    "\n",
    "from paths import RAW_PATH, TREAT_PATH, OUTPUT_PATH, FIGURES_PATH, MODEL_PATH\n",
    "\n",
    "import os\n",
    "from copy import deepcopy\n",
    "import numpy as np\n",
    "import pandas as pd\n",
    "pd.options.display.max_columns = 999\n",
    "\n",
    "import warnings\n",
    "warnings.filterwarnings('ignore')\n",
    "\n",
    "# Plotting\n",
    "import plotly\n",
    "import plotly.graph_objs as go\n",
    "import cufflinks as cf\n",
    "plotly.offline.init_notebook_mode(connected=True)\n",
    "\n",
    "# Metrics\n",
    "from plot_metrics import plot_roc, plot_confusion\n",
    "\n",
    "cf.go_offline()\n",
    "cf.set_config_file(offline=False, world_readable=True)\n",
    "\n",
    "colorscale = ['#025951', '#8BD9CA', '#BF7F30', '#F2C124', '#8C470B', '#DFC27D']"
   ]
  },
  {
   "cell_type": "markdown",
   "metadata": {},
   "source": [
    "## Example: One predictor\n",
    "\n",
    "\n",
    "Let's simulate some trivial data - in this case, we have a categorical variable $x \\in [1, 5]$ and a outcome $y$ that is simply $y_i = 1, x \\geq 3; y = 0, otherwise.$"
   ]
  },
  {
   "cell_type": "code",
   "execution_count": 2,
   "metadata": {
    "scrolled": true
   },
   "outputs": [
    {
     "data": {
      "text/html": [
       "<div>\n",
       "<style scoped>\n",
       "    .dataframe tbody tr th:only-of-type {\n",
       "        vertical-align: middle;\n",
       "    }\n",
       "\n",
       "    .dataframe tbody tr th {\n",
       "        vertical-align: top;\n",
       "    }\n",
       "\n",
       "    .dataframe thead th {\n",
       "        text-align: right;\n",
       "    }\n",
       "</style>\n",
       "<table border=\"1\" class=\"dataframe\">\n",
       "  <thead>\n",
       "    <tr style=\"text-align: right;\">\n",
       "      <th></th>\n",
       "      <th>x</th>\n",
       "      <th>y</th>\n",
       "    </tr>\n",
       "  </thead>\n",
       "  <tbody>\n",
       "    <tr>\n",
       "      <th>0</th>\n",
       "      <td>2</td>\n",
       "      <td>0</td>\n",
       "    </tr>\n",
       "    <tr>\n",
       "      <th>1</th>\n",
       "      <td>5</td>\n",
       "      <td>1</td>\n",
       "    </tr>\n",
       "    <tr>\n",
       "      <th>2</th>\n",
       "      <td>3</td>\n",
       "      <td>1</td>\n",
       "    </tr>\n",
       "    <tr>\n",
       "      <th>3</th>\n",
       "      <td>4</td>\n",
       "      <td>1</td>\n",
       "    </tr>\n",
       "    <tr>\n",
       "      <th>4</th>\n",
       "      <td>1</td>\n",
       "      <td>0</td>\n",
       "    </tr>\n",
       "  </tbody>\n",
       "</table>\n",
       "</div>"
      ],
      "text/plain": [
       "   x  y\n",
       "0  2  0\n",
       "1  5  1\n",
       "2  3  1\n",
       "3  4  1\n",
       "4  1  0"
      ]
     },
     "execution_count": 2,
     "metadata": {},
     "output_type": "execute_result"
    }
   ],
   "source": [
    "x = np.random.random_integers(1, 5, 100)\n",
    "y = [1 if i > 2 else 0 for i in x]\n",
    "\n",
    "df = pd.DataFrame(data=np.array([x,y]).T, columns=['x', 'y'])\n",
    "df.head()"
   ]
  },
  {
   "cell_type": "markdown",
   "metadata": {},
   "source": [
    "We can visualize this outcomes for each value of the predictor in the graph below (note that the point are _jittered_ - we added random noise to $x$ and $y$ values so that they wont all fall into the same point)."
   ]
  },
  {
   "cell_type": "code",
   "execution_count": 3,
   "metadata": {
    "scrolled": false
   },
   "outputs": [
    {
     "data": {
      "application/vnd.plotly.v1+json": {
       "config": {
        "linkText": "Export to plot.ly",
        "plotlyServerURL": "https://plot.ly",
        "showLink": true
       },
       "data": [
        {
         "line": {
          "color": "rgba(55, 128, 191, 1.0)",
          "dash": "solid",
          "shape": "linear",
          "width": 1.3
         },
         "marker": {
          "size": 12,
          "symbol": "circle"
         },
         "mode": "markers",
         "name": "y_jitter",
         "text": "",
         "type": "scatter",
         "uid": "5cf2076b-e971-49be-af4c-6690125dbd22",
         "x": [
          2.0392570594559647,
          5.01415300223334,
          2.950687465098199,
          4.0613451640684755,
          1.1178774763415436,
          4.113499955951771,
          0.9273567023933875,
          2.0362438979720396,
          4.984009843567956,
          3.9416148120917827,
          3.984369542632789,
          5.112499105426481,
          1.0895081083801552,
          1.9633357895315013,
          2.0136931824401954,
          4.00337479328703,
          2.1011217357040675,
          0.9890189325726415,
          5.058966092467659,
          4.860356384812137,
          4.055344009004895,
          4.898644282416581,
          1.9596315790655572,
          4.017650388284161,
          4.069254185074473,
          3.044143463631392,
          0.8861777124666486,
          1.1345172915897161,
          2.0495493488482026,
          1.9127138158086492,
          3.1420771301240844,
          0.9239042666961743,
          3.8840620475642207,
          1.8721498407374868,
          3.9076698402011427,
          4.9594482842900485,
          4.1312075817014895,
          1.987986076495189,
          4.063596285243722,
          3.8778650173426663,
          2.971727114001422,
          1.9757511394724039,
          0.9600176407495603,
          3.0257866786578846,
          5.1355018472649006,
          4.088233129150031,
          2.972681784853981,
          2.9683554464654645,
          5.037036422792054,
          5.013544548026796,
          2.8957029594280352,
          3.829296135912008,
          3.0369414836903013,
          3.0429670033708134,
          0.9584916041856376,
          0.8843187705467516,
          4.984277721481336,
          1.1335918234920161,
          2.948461109771227,
          1.9738961184242474,
          3.1063504498297827,
          4.075221484642861,
          1.9902289945288023,
          3.9184999190453125,
          2.1705005330823535,
          4.080310230814691,
          5.109530765291286,
          2.9793715846734092,
          2.8455614481040334,
          5.043433769925711,
          4.019034466714816,
          1.0569350081688673,
          3.03886285412921,
          4.93464299395222,
          4.976769921124751,
          4.0211249076928715,
          0.8646786139138983,
          4.129701269551156,
          5.005997286221104,
          5.075131473802101,
          1.9729078944334213,
          2.0843655837671142,
          3.068927262810586,
          3.953900382248753,
          2.9020632641610558,
          2.0267107854647533,
          2.8684860253023783,
          5.141597981231098,
          3.86214298227948,
          3.139884371064929,
          1.9991961584772067,
          4.002180532890916,
          0.9463953939824866,
          4.926804117232839,
          1.1011512209124457,
          3.9893279256052567,
          3.0757220202902196,
          3.92197864189734,
          2.9372825406719367,
          3.0616970847543428
         ],
         "y": [
          0.0021388880601078235,
          0.9523231846858389,
          0.9570589630362949,
          1.0154125127427993,
          0.027734140401326574,
          0.9308410257271276,
          -0.011483681883480493,
          0.028731295561273573,
          1.0112612901868712,
          1.0445541879029554,
          0.9427167391764386,
          1.0147401371725642,
          -0.07043574447281747,
          -0.027420020193299907,
          -0.04239972254234405,
          1.0062051530362102,
          0.0039811660529930765,
          0.042376082045400956,
          0.9699185966662505,
          0.9449984103507606,
          0.9244466676371481,
          1.0107632474415293,
          -0.0027574898741740475,
          1.0598343778643133,
          0.9449867076115995,
          1.0201978712752753,
          -0.05272015950141788,
          -0.012404760786779268,
          -0.051470012554687694,
          0.049360359997604214,
          1.064315776794783,
          0.016303266069344534,
          0.9485742810968465,
          0.01920163195586954,
          1.0277190121914686,
          0.9919968137649174,
          0.9550373598179221,
          0.03218279722887457,
          1.0232744688165039,
          1.0790036392067484,
          0.9953620850446903,
          0.013610342141772772,
          -0.07560047380850254,
          0.9391795280948413,
          0.9971608956167592,
          1.0497671943605806,
          1.0861483847621427,
          1.0378170529010722,
          1.0782029056288251,
          1.0404924902328723,
          0.9342338664924772,
          0.9384819595692132,
          0.9889361823519398,
          1.0310956801690623,
          0.008217284637524136,
          -0.07452407150613646,
          0.9431576796748182,
          -0.029706463425499235,
          0.9943087028061226,
          -0.09617595529476998,
          1.0469704853720536,
          1.0073162126878399,
          0.017389424289679913,
          0.9714117388531854,
          -0.03622724609825104,
          1.0346384383002536,
          0.989990905959989,
          0.9129579223628164,
          0.9364949630926523,
          0.9278728624088372,
          1.0421269350181348,
          0.01488221760048243,
          1.0193853433065223,
          0.9686395693689127,
          0.9826494173633775,
          0.959959445789656,
          0.045615588903774526,
          0.9875232365339414,
          0.9325131869075299,
          1.045718641645741,
          0.06666349095503364,
          0.06792439542777148,
          0.9596682824122735,
          1.02010343873669,
          0.9810990400835384,
          0.0412551622448374,
          0.9818270975975169,
          1.081018495925377,
          0.9508479863738684,
          1.0530948605441761,
          0.016944089876236253,
          0.9931690247443556,
          0.007468467135160313,
          0.9147925923619645,
          -0.006822236780693797,
          0.9750633200149569,
          1.012822297807251,
          1.0119201389835348,
          0.9960244832957029,
          0.9891412801494487
         ]
        }
       ],
       "layout": {
        "legend": {
         "bgcolor": "#FFFFFF",
         "font": {
          "color": "#4D5663"
         }
        },
        "paper_bgcolor": "#FFFFFF",
        "plot_bgcolor": "#FFFFFF",
        "title": {
         "font": {
          "color": "#4D5663"
         },
         "text": "Simulated outcomes for 5-level variable"
        },
        "xaxis": {
         "gridcolor": "#E1E5ED",
         "showgrid": true,
         "tickfont": {
          "color": "#4D5663"
         },
         "title": {
          "font": {
           "color": "#4D5663"
          },
          "text": "Predictor variable"
         },
         "zerolinecolor": "#E1E5ED"
        },
        "yaxis": {
         "gridcolor": "#E1E5ED",
         "showgrid": true,
         "tickfont": {
          "color": "#4D5663"
         },
         "title": {
          "font": {
           "color": "#4D5663"
          },
          "text": "Outcome (y = 1 / y = 0)"
         },
         "zerolinecolor": "#E1E5ED"
        }
       }
      },
      "text/html": [
       "<div>\n",
       "        \n",
       "        \n",
       "            <div id=\"ac73ca23-5fa7-4058-b20d-718228f24670\" class=\"plotly-graph-div\" style=\"height:525px; width:100%;\"></div>\n",
       "            <script type=\"text/javascript\">\n",
       "                require([\"plotly\"], function(Plotly) {\n",
       "                    window.PLOTLYENV=window.PLOTLYENV || {};\n",
       "                    window.PLOTLYENV.BASE_URL='https://plot.ly';\n",
       "                    \n",
       "                if (document.getElementById(\"ac73ca23-5fa7-4058-b20d-718228f24670\")) {\n",
       "                    Plotly.newPlot(\n",
       "                        'ac73ca23-5fa7-4058-b20d-718228f24670',\n",
       "                        [{\"line\": {\"color\": \"rgba(55, 128, 191, 1.0)\", \"dash\": \"solid\", \"shape\": \"linear\", \"width\": 1.3}, \"marker\": {\"size\": 12, \"symbol\": \"circle\"}, \"mode\": \"markers\", \"name\": \"y_jitter\", \"text\": \"\", \"type\": \"scatter\", \"uid\": \"5cf2076b-e971-49be-af4c-6690125dbd22\", \"x\": [2.0392570594559647, 5.01415300223334, 2.950687465098199, 4.0613451640684755, 1.1178774763415436, 4.113499955951771, 0.9273567023933875, 2.0362438979720396, 4.984009843567956, 3.9416148120917827, 3.984369542632789, 5.112499105426481, 1.0895081083801552, 1.9633357895315013, 2.0136931824401954, 4.00337479328703, 2.1011217357040675, 0.9890189325726415, 5.058966092467659, 4.860356384812137, 4.055344009004895, 4.898644282416581, 1.9596315790655572, 4.017650388284161, 4.069254185074473, 3.044143463631392, 0.8861777124666486, 1.1345172915897161, 2.0495493488482026, 1.9127138158086492, 3.1420771301240844, 0.9239042666961743, 3.8840620475642207, 1.8721498407374868, 3.9076698402011427, 4.9594482842900485, 4.1312075817014895, 1.987986076495189, 4.063596285243722, 3.8778650173426663, 2.971727114001422, 1.9757511394724039, 0.9600176407495603, 3.0257866786578846, 5.1355018472649006, 4.088233129150031, 2.972681784853981, 2.9683554464654645, 5.037036422792054, 5.013544548026796, 2.8957029594280352, 3.829296135912008, 3.0369414836903013, 3.0429670033708134, 0.9584916041856376, 0.8843187705467516, 4.984277721481336, 1.1335918234920161, 2.948461109771227, 1.9738961184242474, 3.1063504498297827, 4.075221484642861, 1.9902289945288023, 3.9184999190453125, 2.1705005330823535, 4.080310230814691, 5.109530765291286, 2.9793715846734092, 2.8455614481040334, 5.043433769925711, 4.019034466714816, 1.0569350081688673, 3.03886285412921, 4.93464299395222, 4.976769921124751, 4.0211249076928715, 0.8646786139138983, 4.129701269551156, 5.005997286221104, 5.075131473802101, 1.9729078944334213, 2.0843655837671142, 3.068927262810586, 3.953900382248753, 2.9020632641610558, 2.0267107854647533, 2.8684860253023783, 5.141597981231098, 3.86214298227948, 3.139884371064929, 1.9991961584772067, 4.002180532890916, 0.9463953939824866, 4.926804117232839, 1.1011512209124457, 3.9893279256052567, 3.0757220202902196, 3.92197864189734, 2.9372825406719367, 3.0616970847543428], \"y\": [0.0021388880601078235, 0.9523231846858389, 0.9570589630362949, 1.0154125127427993, 0.027734140401326574, 0.9308410257271276, -0.011483681883480493, 0.028731295561273573, 1.0112612901868712, 1.0445541879029554, 0.9427167391764386, 1.0147401371725642, -0.07043574447281747, -0.027420020193299907, -0.04239972254234405, 1.0062051530362102, 0.0039811660529930765, 0.042376082045400956, 0.9699185966662505, 0.9449984103507606, 0.9244466676371481, 1.0107632474415293, -0.0027574898741740475, 1.0598343778643133, 0.9449867076115995, 1.0201978712752753, -0.05272015950141788, -0.012404760786779268, -0.051470012554687694, 0.049360359997604214, 1.064315776794783, 0.016303266069344534, 0.9485742810968465, 0.01920163195586954, 1.0277190121914686, 0.9919968137649174, 0.9550373598179221, 0.03218279722887457, 1.0232744688165039, 1.0790036392067484, 0.9953620850446903, 0.013610342141772772, -0.07560047380850254, 0.9391795280948413, 0.9971608956167592, 1.0497671943605806, 1.0861483847621427, 1.0378170529010722, 1.0782029056288251, 1.0404924902328723, 0.9342338664924772, 0.9384819595692132, 0.9889361823519398, 1.0310956801690623, 0.008217284637524136, -0.07452407150613646, 0.9431576796748182, -0.029706463425499235, 0.9943087028061226, -0.09617595529476998, 1.0469704853720536, 1.0073162126878399, 0.017389424289679913, 0.9714117388531854, -0.03622724609825104, 1.0346384383002536, 0.989990905959989, 0.9129579223628164, 0.9364949630926523, 0.9278728624088372, 1.0421269350181348, 0.01488221760048243, 1.0193853433065223, 0.9686395693689127, 0.9826494173633775, 0.959959445789656, 0.045615588903774526, 0.9875232365339414, 0.9325131869075299, 1.045718641645741, 0.06666349095503364, 0.06792439542777148, 0.9596682824122735, 1.02010343873669, 0.9810990400835384, 0.0412551622448374, 0.9818270975975169, 1.081018495925377, 0.9508479863738684, 1.0530948605441761, 0.016944089876236253, 0.9931690247443556, 0.007468467135160313, 0.9147925923619645, -0.006822236780693797, 0.9750633200149569, 1.012822297807251, 1.0119201389835348, 0.9960244832957029, 0.9891412801494487]}],\n",
       "                        {\"legend\": {\"bgcolor\": \"#FFFFFF\", \"font\": {\"color\": \"#4D5663\"}}, \"paper_bgcolor\": \"#FFFFFF\", \"plot_bgcolor\": \"#FFFFFF\", \"title\": {\"font\": {\"color\": \"#4D5663\"}, \"text\": \"Simulated outcomes for 5-level variable\"}, \"xaxis\": {\"gridcolor\": \"#E1E5ED\", \"showgrid\": true, \"tickfont\": {\"color\": \"#4D5663\"}, \"title\": {\"font\": {\"color\": \"#4D5663\"}, \"text\": \"Predictor variable\"}, \"zerolinecolor\": \"#E1E5ED\"}, \"yaxis\": {\"gridcolor\": \"#E1E5ED\", \"showgrid\": true, \"tickfont\": {\"color\": \"#4D5663\"}, \"title\": {\"font\": {\"color\": \"#4D5663\"}, \"text\": \"Outcome (y = 1 / y = 0)\"}, \"zerolinecolor\": \"#E1E5ED\"}},\n",
       "                        {\"showLink\": true, \"linkText\": \"Export to plot.ly\", \"plotlyServerURL\": \"https://plot.ly\", \"responsive\": true}\n",
       "                    ).then(function(){\n",
       "                            \n",
       "var gd = document.getElementById('ac73ca23-5fa7-4058-b20d-718228f24670');\n",
       "var x = new MutationObserver(function (mutations, observer) {{\n",
       "        var display = window.getComputedStyle(gd).display;\n",
       "        if (!display || display === 'none') {{\n",
       "            console.log([gd, 'removed!']);\n",
       "            Plotly.purge(gd);\n",
       "            observer.disconnect();\n",
       "        }}\n",
       "}});\n",
       "\n",
       "// Listen for the removal of the full notebook cells\n",
       "var notebookContainer = gd.closest('#notebook-container');\n",
       "if (notebookContainer) {{\n",
       "    x.observe(notebookContainer, {childList: true});\n",
       "}}\n",
       "\n",
       "// Listen for the clearing of the current output cell\n",
       "var outputEl = gd.closest('.output');\n",
       "if (outputEl) {{\n",
       "    x.observe(outputEl, {childList: true});\n",
       "}}\n",
       "\n",
       "                        })\n",
       "                };\n",
       "                });\n",
       "            </script>\n",
       "        </div>"
      ]
     },
     "metadata": {},
     "output_type": "display_data"
    }
   ],
   "source": [
    "df['x_jitter'] = df['x'].apply(lambda x: x + np.random.random()/5 - np.random.random()/5)\n",
    "df['y_jitter'] = df['y'].apply(lambda x: x + np.random.random()/10 - np.random.random()/10)\n",
    "\n",
    "df[['x_jitter', 'y_jitter']].set_index('x_jitter').iplot(kind='scatter', mode='markers', \n",
    "                                                         color='blue', theme='white',\n",
    "                                                         title='Simulated outcomes for 5-level variable',\n",
    "                                                         yTitle='Outcome (y = 1 / y = 0)',\n",
    "                                                         xTitle='Predictor variable')"
   ]
  },
  {
   "cell_type": "markdown",
   "metadata": {},
   "source": [
    "Now, we can run a logistic regression model to get the probabilities of the outcome given our predictor variable:"
   ]
  },
  {
   "cell_type": "code",
   "execution_count": 4,
   "metadata": {},
   "outputs": [
    {
     "data": {
      "text/plain": [
       "LogisticRegression(C=1.0, class_weight=None, dual=False, fit_intercept=True,\n",
       "                   intercept_scaling=1, l1_ratio=None, max_iter=100,\n",
       "                   multi_class='warn', n_jobs=None, penalty='l2',\n",
       "                   random_state=None, solver='warn', tol=0.0001, verbose=0,\n",
       "                   warm_start=False)"
      ]
     },
     "execution_count": 4,
     "metadata": {},
     "output_type": "execute_result"
    }
   ],
   "source": [
    "from sklearn.linear_model import LogisticRegression\n",
    "\n",
    "model = LogisticRegression()\n",
    "model.fit(df[['x']], df['y'])"
   ]
  },
  {
   "cell_type": "markdown",
   "metadata": {},
   "source": [
    "The model generated the following formula for our data: $logit(p) = -3.98 + 1.66 x$. \n",
    "\n",
    "The independent term, $-3.98$, is our _intercept_ and $1.66$ is the _slope_ for the variable x (you can check the values bellow)."
   ]
  },
  {
   "cell_type": "code",
   "execution_count": 29,
   "metadata": {},
   "outputs": [
    {
     "data": {
      "text/plain": [
       "(array([-3.6765385]), array([[1.68489309]]))"
      ]
     },
     "execution_count": 29,
     "metadata": {},
     "output_type": "execute_result"
    }
   ],
   "source": [
    "model.intercept_, model.coef_"
   ]
  },
  {
   "cell_type": "markdown",
   "metadata": {},
   "source": [
    "We can then visualize our logistic function below:"
   ]
  },
  {
   "cell_type": "code",
   "execution_count": 28,
   "metadata": {
    "scrolled": false
   },
   "outputs": [
    {
     "data": {
      "application/vnd.plotly.v1+json": {
       "config": {
        "linkText": "Export to plot.ly",
        "plotlyServerURL": "https://plot.ly",
        "showLink": true
       },
       "data": [
        {
         "line": {
          "color": "rgba(255, 153, 51, 1.0)",
          "dash": "solid",
          "shape": "linear",
          "width": 1.3
         },
         "marker": {
          "size": 12,
          "symbol": "circle"
         },
         "mode": "markers",
         "name": "logit",
         "text": "",
         "type": "scatter",
         "uid": "5ccae84a-1a5c-489f-ae21-93579c569706",
         "x": [
          2,
          5,
          3,
          4,
          1,
          4,
          1,
          2,
          5,
          4,
          4,
          5,
          1,
          2,
          2,
          4,
          2,
          1,
          5,
          5,
          4,
          5,
          2,
          4,
          4,
          3,
          1,
          1,
          2,
          2,
          3,
          1,
          4,
          2,
          4,
          5,
          4,
          2,
          4,
          4,
          3,
          2,
          1,
          3,
          5,
          4,
          3,
          3,
          5,
          5,
          3,
          4,
          3,
          3,
          1,
          1,
          5,
          1,
          3,
          2,
          3,
          4,
          2,
          4,
          2,
          4,
          5,
          3,
          3,
          5,
          4,
          1,
          3,
          5,
          5,
          4,
          1,
          4,
          5,
          5,
          2,
          2,
          3,
          4,
          3,
          2,
          3,
          5,
          4,
          3,
          2,
          4,
          1,
          5,
          1,
          4,
          3,
          4,
          3,
          3
         ],
         "y": [
          -0.306752316082779,
          4.7479269651136295,
          1.3781407776493575,
          3.063033871381494,
          -1.9916454098149154,
          3.063033871381494,
          -1.9916454098149154,
          -0.306752316082779,
          4.7479269651136295,
          3.063033871381494,
          3.063033871381494,
          4.7479269651136295,
          -1.9916454098149154,
          -0.306752316082779,
          -0.306752316082779,
          3.063033871381494,
          -0.306752316082779,
          -1.9916454098149154,
          4.7479269651136295,
          4.7479269651136295,
          3.063033871381494,
          4.7479269651136295,
          -0.306752316082779,
          3.063033871381494,
          3.063033871381494,
          1.3781407776493575,
          -1.9916454098149154,
          -1.9916454098149154,
          -0.306752316082779,
          -0.306752316082779,
          1.3781407776493575,
          -1.9916454098149154,
          3.063033871381494,
          -0.306752316082779,
          3.063033871381494,
          4.7479269651136295,
          3.063033871381494,
          -0.306752316082779,
          3.063033871381494,
          3.063033871381494,
          1.3781407776493575,
          -0.306752316082779,
          -1.9916454098149154,
          1.3781407776493575,
          4.7479269651136295,
          3.063033871381494,
          1.3781407776493575,
          1.3781407776493575,
          4.7479269651136295,
          4.7479269651136295,
          1.3781407776493575,
          3.063033871381494,
          1.3781407776493575,
          1.3781407776493575,
          -1.9916454098149154,
          -1.9916454098149154,
          4.7479269651136295,
          -1.9916454098149154,
          1.3781407776493575,
          -0.306752316082779,
          1.3781407776493575,
          3.063033871381494,
          -0.306752316082779,
          3.063033871381494,
          -0.306752316082779,
          3.063033871381494,
          4.7479269651136295,
          1.3781407776493575,
          1.3781407776493575,
          4.7479269651136295,
          3.063033871381494,
          -1.9916454098149154,
          1.3781407776493575,
          4.7479269651136295,
          4.7479269651136295,
          3.063033871381494,
          -1.9916454098149154,
          3.063033871381494,
          4.7479269651136295,
          4.7479269651136295,
          -0.306752316082779,
          -0.306752316082779,
          1.3781407776493575,
          3.063033871381494,
          1.3781407776493575,
          -0.306752316082779,
          1.3781407776493575,
          4.7479269651136295,
          3.063033871381494,
          1.3781407776493575,
          -0.306752316082779,
          3.063033871381494,
          -1.9916454098149154,
          4.7479269651136295,
          -1.9916454098149154,
          3.063033871381494,
          1.3781407776493575,
          3.063033871381494,
          1.3781407776493575,
          1.3781407776493575
         ]
        }
       ],
       "layout": {
        "legend": {
         "bgcolor": "#FFFFFF",
         "font": {
          "color": "#4D5663"
         }
        },
        "paper_bgcolor": "#FFFFFF",
        "plot_bgcolor": "#FFFFFF",
        "title": {
         "font": {
          "color": "#4D5663"
         },
         "text": "Logistic regression"
        },
        "xaxis": {
         "gridcolor": "#E1E5ED",
         "showgrid": true,
         "tickfont": {
          "color": "#4D5663"
         },
         "title": {
          "font": {
           "color": "#4D5663"
          },
          "text": "Predictor variable"
         },
         "zerolinecolor": "#E1E5ED"
        },
        "yaxis": {
         "gridcolor": "#E1E5ED",
         "showgrid": true,
         "tickfont": {
          "color": "#4D5663"
         },
         "title": {
          "font": {
           "color": "#4D5663"
          },
          "text": "logit(p)"
         },
         "zerolinecolor": "#E1E5ED"
        }
       }
      },
      "text/html": [
       "<div>\n",
       "        \n",
       "        \n",
       "            <div id=\"cd9e6d76-fe61-4fcf-9a39-aaeb80990aa6\" class=\"plotly-graph-div\" style=\"height:525px; width:100%;\"></div>\n",
       "            <script type=\"text/javascript\">\n",
       "                require([\"plotly\"], function(Plotly) {\n",
       "                    window.PLOTLYENV=window.PLOTLYENV || {};\n",
       "                    window.PLOTLYENV.BASE_URL='https://plot.ly';\n",
       "                    \n",
       "                if (document.getElementById(\"cd9e6d76-fe61-4fcf-9a39-aaeb80990aa6\")) {\n",
       "                    Plotly.newPlot(\n",
       "                        'cd9e6d76-fe61-4fcf-9a39-aaeb80990aa6',\n",
       "                        [{\"line\": {\"color\": \"rgba(255, 153, 51, 1.0)\", \"dash\": \"solid\", \"shape\": \"linear\", \"width\": 1.3}, \"marker\": {\"size\": 12, \"symbol\": \"circle\"}, \"mode\": \"markers\", \"name\": \"logit\", \"text\": \"\", \"type\": \"scatter\", \"uid\": \"5ccae84a-1a5c-489f-ae21-93579c569706\", \"x\": [2, 5, 3, 4, 1, 4, 1, 2, 5, 4, 4, 5, 1, 2, 2, 4, 2, 1, 5, 5, 4, 5, 2, 4, 4, 3, 1, 1, 2, 2, 3, 1, 4, 2, 4, 5, 4, 2, 4, 4, 3, 2, 1, 3, 5, 4, 3, 3, 5, 5, 3, 4, 3, 3, 1, 1, 5, 1, 3, 2, 3, 4, 2, 4, 2, 4, 5, 3, 3, 5, 4, 1, 3, 5, 5, 4, 1, 4, 5, 5, 2, 2, 3, 4, 3, 2, 3, 5, 4, 3, 2, 4, 1, 5, 1, 4, 3, 4, 3, 3], \"y\": [-0.306752316082779, 4.7479269651136295, 1.3781407776493575, 3.063033871381494, -1.9916454098149154, 3.063033871381494, -1.9916454098149154, -0.306752316082779, 4.7479269651136295, 3.063033871381494, 3.063033871381494, 4.7479269651136295, -1.9916454098149154, -0.306752316082779, -0.306752316082779, 3.063033871381494, -0.306752316082779, -1.9916454098149154, 4.7479269651136295, 4.7479269651136295, 3.063033871381494, 4.7479269651136295, -0.306752316082779, 3.063033871381494, 3.063033871381494, 1.3781407776493575, -1.9916454098149154, -1.9916454098149154, -0.306752316082779, -0.306752316082779, 1.3781407776493575, -1.9916454098149154, 3.063033871381494, -0.306752316082779, 3.063033871381494, 4.7479269651136295, 3.063033871381494, -0.306752316082779, 3.063033871381494, 3.063033871381494, 1.3781407776493575, -0.306752316082779, -1.9916454098149154, 1.3781407776493575, 4.7479269651136295, 3.063033871381494, 1.3781407776493575, 1.3781407776493575, 4.7479269651136295, 4.7479269651136295, 1.3781407776493575, 3.063033871381494, 1.3781407776493575, 1.3781407776493575, -1.9916454098149154, -1.9916454098149154, 4.7479269651136295, -1.9916454098149154, 1.3781407776493575, -0.306752316082779, 1.3781407776493575, 3.063033871381494, -0.306752316082779, 3.063033871381494, -0.306752316082779, 3.063033871381494, 4.7479269651136295, 1.3781407776493575, 1.3781407776493575, 4.7479269651136295, 3.063033871381494, -1.9916454098149154, 1.3781407776493575, 4.7479269651136295, 4.7479269651136295, 3.063033871381494, -1.9916454098149154, 3.063033871381494, 4.7479269651136295, 4.7479269651136295, -0.306752316082779, -0.306752316082779, 1.3781407776493575, 3.063033871381494, 1.3781407776493575, -0.306752316082779, 1.3781407776493575, 4.7479269651136295, 3.063033871381494, 1.3781407776493575, -0.306752316082779, 3.063033871381494, -1.9916454098149154, 4.7479269651136295, -1.9916454098149154, 3.063033871381494, 1.3781407776493575, 3.063033871381494, 1.3781407776493575, 1.3781407776493575]}],\n",
       "                        {\"legend\": {\"bgcolor\": \"#FFFFFF\", \"font\": {\"color\": \"#4D5663\"}}, \"paper_bgcolor\": \"#FFFFFF\", \"plot_bgcolor\": \"#FFFFFF\", \"title\": {\"font\": {\"color\": \"#4D5663\"}, \"text\": \"Logistic regression\"}, \"xaxis\": {\"gridcolor\": \"#E1E5ED\", \"showgrid\": true, \"tickfont\": {\"color\": \"#4D5663\"}, \"title\": {\"font\": {\"color\": \"#4D5663\"}, \"text\": \"Predictor variable\"}, \"zerolinecolor\": \"#E1E5ED\"}, \"yaxis\": {\"gridcolor\": \"#E1E5ED\", \"showgrid\": true, \"tickfont\": {\"color\": \"#4D5663\"}, \"title\": {\"font\": {\"color\": \"#4D5663\"}, \"text\": \"logit(p)\"}, \"zerolinecolor\": \"#E1E5ED\"}},\n",
       "                        {\"showLink\": true, \"linkText\": \"Export to plot.ly\", \"plotlyServerURL\": \"https://plot.ly\", \"responsive\": true}\n",
       "                    ).then(function(){\n",
       "                            \n",
       "var gd = document.getElementById('cd9e6d76-fe61-4fcf-9a39-aaeb80990aa6');\n",
       "var x = new MutationObserver(function (mutations, observer) {{\n",
       "        var display = window.getComputedStyle(gd).display;\n",
       "        if (!display || display === 'none') {{\n",
       "            console.log([gd, 'removed!']);\n",
       "            Plotly.purge(gd);\n",
       "            observer.disconnect();\n",
       "        }}\n",
       "}});\n",
       "\n",
       "// Listen for the removal of the full notebook cells\n",
       "var notebookContainer = gd.closest('#notebook-container');\n",
       "if (notebookContainer) {{\n",
       "    x.observe(notebookContainer, {childList: true});\n",
       "}}\n",
       "\n",
       "// Listen for the clearing of the current output cell\n",
       "var outputEl = gd.closest('.output');\n",
       "if (outputEl) {{\n",
       "    x.observe(outputEl, {childList: true});\n",
       "}}\n",
       "\n",
       "                        })\n",
       "                };\n",
       "                });\n",
       "            </script>\n",
       "        </div>"
      ]
     },
     "metadata": {},
     "output_type": "display_data"
    }
   ],
   "source": [
    "def logit(x):\n",
    "    return model.intercept_[0] + x*model.coef_[0][0]\n",
    "    \n",
    "df['logit'] = df['x'].apply(lambda x: logit(x))\n",
    "\n",
    "df[['x', 'logit']].set_index('x').iplot(kind='scatter', mode='markers', \n",
    "                                        color='orange', theme='white',\n",
    "                                        title='Logistic regression',\n",
    "                                        xTitle='Predictor variable', \n",
    "                                        yTitle='logit(p)')"
   ]
  },
  {
   "cell_type": "markdown",
   "metadata": {},
   "source": [
    "Note that the logistic regression is a linear function that has no specifc range - it can go from $(-\\infty, \\infty)$.\n",
    "\n",
    "We can check the probability function estimated by the model doing the inverse transformation: $\\hat{p} = logit^{-1}(p) = \\frac{1}{1 + \\exp{-\\beta X}}$"
   ]
  },
  {
   "cell_type": "code",
   "execution_count": 7,
   "metadata": {},
   "outputs": [
    {
     "data": {
      "text/plain": [
       "0    0.423908\n",
       "1    0.991405\n",
       "2    0.798692\n",
       "3    0.955342\n",
       "4    0.120083\n",
       "Name: inv_logit, dtype: float64"
      ]
     },
     "execution_count": 7,
     "metadata": {},
     "output_type": "execute_result"
    }
   ],
   "source": [
    "def inv_logit(x): \n",
    "    return 1 / (1 + np.e**(-x))\n",
    "\n",
    "df['inv_logit'] = df['logit'].apply(lambda x: inv_logit(x))\n",
    "df['inv_logit'].head()"
   ]
  },
  {
   "cell_type": "code",
   "execution_count": 8,
   "metadata": {},
   "outputs": [
    {
     "data": {
      "application/vnd.plotly.v1+json": {
       "config": {
        "linkText": "Export to plot.ly",
        "plotlyServerURL": "https://plot.ly",
        "showLink": true
       },
       "data": [
        {
         "line": {
          "color": "rgba(0, 128, 0, 1.0)",
          "dash": "solid",
          "shape": "linear",
          "width": 1.3
         },
         "marker": {
          "size": 12,
          "symbol": "circle"
         },
         "mode": "markers",
         "name": "inv_logit",
         "text": "",
         "type": "scatter",
         "uid": "b8f73e59-a4ac-48ab-a9b6-74d1e0655191",
         "x": [
          2,
          5,
          3,
          4,
          1,
          4,
          1,
          2,
          5,
          4,
          4,
          5,
          1,
          2,
          2,
          4,
          2,
          1,
          5,
          5,
          4,
          5,
          2,
          4,
          4,
          3,
          1,
          1,
          2,
          2,
          3,
          1,
          4,
          2,
          4,
          5,
          4,
          2,
          4,
          4,
          3,
          2,
          1,
          3,
          5,
          4,
          3,
          3,
          5,
          5,
          3,
          4,
          3,
          3,
          1,
          1,
          5,
          1,
          3,
          2,
          3,
          4,
          2,
          4,
          2,
          4,
          5,
          3,
          3,
          5,
          4,
          1,
          3,
          5,
          5,
          4,
          1,
          4,
          5,
          5,
          2,
          2,
          3,
          4,
          3,
          2,
          3,
          5,
          4,
          3,
          2,
          4,
          1,
          5,
          1,
          4,
          3,
          4,
          3,
          3
         ],
         "y": [
          0.42390765896687277,
          0.9914048677085244,
          0.7986922349984955,
          0.9553419122164993,
          0.12008289483038301,
          0.9553419122164993,
          0.12008289483038301,
          0.42390765896687277,
          0.9914048677085244,
          0.9553419122164993,
          0.9553419122164993,
          0.9914048677085244,
          0.12008289483038301,
          0.42390765896687277,
          0.42390765896687277,
          0.9553419122164993,
          0.42390765896687277,
          0.12008289483038301,
          0.9914048677085244,
          0.9914048677085244,
          0.9553419122164993,
          0.9914048677085244,
          0.42390765896687277,
          0.9553419122164993,
          0.9553419122164993,
          0.7986922349984955,
          0.12008289483038301,
          0.12008289483038301,
          0.42390765896687277,
          0.42390765896687277,
          0.7986922349984955,
          0.12008289483038301,
          0.9553419122164993,
          0.42390765896687277,
          0.9553419122164993,
          0.9914048677085244,
          0.9553419122164993,
          0.42390765896687277,
          0.9553419122164993,
          0.9553419122164993,
          0.7986922349984955,
          0.42390765896687277,
          0.12008289483038301,
          0.7986922349984955,
          0.9914048677085244,
          0.9553419122164993,
          0.7986922349984955,
          0.7986922349984955,
          0.9914048677085244,
          0.9914048677085244,
          0.7986922349984955,
          0.9553419122164993,
          0.7986922349984955,
          0.7986922349984955,
          0.12008289483038301,
          0.12008289483038301,
          0.9914048677085244,
          0.12008289483038301,
          0.7986922349984955,
          0.42390765896687277,
          0.7986922349984955,
          0.9553419122164993,
          0.42390765896687277,
          0.9553419122164993,
          0.42390765896687277,
          0.9553419122164993,
          0.9914048677085244,
          0.7986922349984955,
          0.7986922349984955,
          0.9914048677085244,
          0.9553419122164993,
          0.12008289483038301,
          0.7986922349984955,
          0.9914048677085244,
          0.9914048677085244,
          0.9553419122164993,
          0.12008289483038301,
          0.9553419122164993,
          0.9914048677085244,
          0.9914048677085244,
          0.42390765896687277,
          0.42390765896687277,
          0.7986922349984955,
          0.9553419122164993,
          0.7986922349984955,
          0.42390765896687277,
          0.7986922349984955,
          0.9914048677085244,
          0.9553419122164993,
          0.7986922349984955,
          0.42390765896687277,
          0.9553419122164993,
          0.12008289483038301,
          0.9914048677085244,
          0.12008289483038301,
          0.9553419122164993,
          0.7986922349984955,
          0.9553419122164993,
          0.7986922349984955,
          0.7986922349984955
         ]
        }
       ],
       "layout": {
        "legend": {
         "bgcolor": "#FFFFFF",
         "font": {
          "color": "#4D5663"
         }
        },
        "paper_bgcolor": "#FFFFFF",
        "plot_bgcolor": "#FFFFFF",
        "title": {
         "font": {
          "color": "#4D5663"
         },
         "text": "Estimated probability"
        },
        "xaxis": {
         "gridcolor": "#E1E5ED",
         "showgrid": true,
         "tickfont": {
          "color": "#4D5663"
         },
         "title": {
          "font": {
           "color": "#4D5663"
          },
          "text": "Predictor variable"
         },
         "zerolinecolor": "#E1E5ED"
        },
        "yaxis": {
         "gridcolor": "#E1E5ED",
         "showgrid": true,
         "tickfont": {
          "color": "#4D5663"
         },
         "title": {
          "font": {
           "color": "#4D5663"
          },
          "text": "p estimated"
         },
         "zerolinecolor": "#E1E5ED"
        }
       }
      },
      "text/html": [
       "<div>\n",
       "        \n",
       "        \n",
       "            <div id=\"d8164929-cf4a-4ffa-bd46-a32bf18c8c4d\" class=\"plotly-graph-div\" style=\"height:525px; width:100%;\"></div>\n",
       "            <script type=\"text/javascript\">\n",
       "                require([\"plotly\"], function(Plotly) {\n",
       "                    window.PLOTLYENV=window.PLOTLYENV || {};\n",
       "                    window.PLOTLYENV.BASE_URL='https://plot.ly';\n",
       "                    \n",
       "                if (document.getElementById(\"d8164929-cf4a-4ffa-bd46-a32bf18c8c4d\")) {\n",
       "                    Plotly.newPlot(\n",
       "                        'd8164929-cf4a-4ffa-bd46-a32bf18c8c4d',\n",
       "                        [{\"line\": {\"color\": \"rgba(0, 128, 0, 1.0)\", \"dash\": \"solid\", \"shape\": \"linear\", \"width\": 1.3}, \"marker\": {\"size\": 12, \"symbol\": \"circle\"}, \"mode\": \"markers\", \"name\": \"inv_logit\", \"text\": \"\", \"type\": \"scatter\", \"uid\": \"b8f73e59-a4ac-48ab-a9b6-74d1e0655191\", \"x\": [2, 5, 3, 4, 1, 4, 1, 2, 5, 4, 4, 5, 1, 2, 2, 4, 2, 1, 5, 5, 4, 5, 2, 4, 4, 3, 1, 1, 2, 2, 3, 1, 4, 2, 4, 5, 4, 2, 4, 4, 3, 2, 1, 3, 5, 4, 3, 3, 5, 5, 3, 4, 3, 3, 1, 1, 5, 1, 3, 2, 3, 4, 2, 4, 2, 4, 5, 3, 3, 5, 4, 1, 3, 5, 5, 4, 1, 4, 5, 5, 2, 2, 3, 4, 3, 2, 3, 5, 4, 3, 2, 4, 1, 5, 1, 4, 3, 4, 3, 3], \"y\": [0.42390765896687277, 0.9914048677085244, 0.7986922349984955, 0.9553419122164993, 0.12008289483038301, 0.9553419122164993, 0.12008289483038301, 0.42390765896687277, 0.9914048677085244, 0.9553419122164993, 0.9553419122164993, 0.9914048677085244, 0.12008289483038301, 0.42390765896687277, 0.42390765896687277, 0.9553419122164993, 0.42390765896687277, 0.12008289483038301, 0.9914048677085244, 0.9914048677085244, 0.9553419122164993, 0.9914048677085244, 0.42390765896687277, 0.9553419122164993, 0.9553419122164993, 0.7986922349984955, 0.12008289483038301, 0.12008289483038301, 0.42390765896687277, 0.42390765896687277, 0.7986922349984955, 0.12008289483038301, 0.9553419122164993, 0.42390765896687277, 0.9553419122164993, 0.9914048677085244, 0.9553419122164993, 0.42390765896687277, 0.9553419122164993, 0.9553419122164993, 0.7986922349984955, 0.42390765896687277, 0.12008289483038301, 0.7986922349984955, 0.9914048677085244, 0.9553419122164993, 0.7986922349984955, 0.7986922349984955, 0.9914048677085244, 0.9914048677085244, 0.7986922349984955, 0.9553419122164993, 0.7986922349984955, 0.7986922349984955, 0.12008289483038301, 0.12008289483038301, 0.9914048677085244, 0.12008289483038301, 0.7986922349984955, 0.42390765896687277, 0.7986922349984955, 0.9553419122164993, 0.42390765896687277, 0.9553419122164993, 0.42390765896687277, 0.9553419122164993, 0.9914048677085244, 0.7986922349984955, 0.7986922349984955, 0.9914048677085244, 0.9553419122164993, 0.12008289483038301, 0.7986922349984955, 0.9914048677085244, 0.9914048677085244, 0.9553419122164993, 0.12008289483038301, 0.9553419122164993, 0.9914048677085244, 0.9914048677085244, 0.42390765896687277, 0.42390765896687277, 0.7986922349984955, 0.9553419122164993, 0.7986922349984955, 0.42390765896687277, 0.7986922349984955, 0.9914048677085244, 0.9553419122164993, 0.7986922349984955, 0.42390765896687277, 0.9553419122164993, 0.12008289483038301, 0.9914048677085244, 0.12008289483038301, 0.9553419122164993, 0.7986922349984955, 0.9553419122164993, 0.7986922349984955, 0.7986922349984955]}],\n",
       "                        {\"legend\": {\"bgcolor\": \"#FFFFFF\", \"font\": {\"color\": \"#4D5663\"}}, \"paper_bgcolor\": \"#FFFFFF\", \"plot_bgcolor\": \"#FFFFFF\", \"title\": {\"font\": {\"color\": \"#4D5663\"}, \"text\": \"Estimated probability\"}, \"xaxis\": {\"gridcolor\": \"#E1E5ED\", \"showgrid\": true, \"tickfont\": {\"color\": \"#4D5663\"}, \"title\": {\"font\": {\"color\": \"#4D5663\"}, \"text\": \"Predictor variable\"}, \"zerolinecolor\": \"#E1E5ED\"}, \"yaxis\": {\"gridcolor\": \"#E1E5ED\", \"showgrid\": true, \"tickfont\": {\"color\": \"#4D5663\"}, \"title\": {\"font\": {\"color\": \"#4D5663\"}, \"text\": \"p estimated\"}, \"zerolinecolor\": \"#E1E5ED\"}},\n",
       "                        {\"showLink\": true, \"linkText\": \"Export to plot.ly\", \"plotlyServerURL\": \"https://plot.ly\", \"responsive\": true}\n",
       "                    ).then(function(){\n",
       "                            \n",
       "var gd = document.getElementById('d8164929-cf4a-4ffa-bd46-a32bf18c8c4d');\n",
       "var x = new MutationObserver(function (mutations, observer) {{\n",
       "        var display = window.getComputedStyle(gd).display;\n",
       "        if (!display || display === 'none') {{\n",
       "            console.log([gd, 'removed!']);\n",
       "            Plotly.purge(gd);\n",
       "            observer.disconnect();\n",
       "        }}\n",
       "}});\n",
       "\n",
       "// Listen for the removal of the full notebook cells\n",
       "var notebookContainer = gd.closest('#notebook-container');\n",
       "if (notebookContainer) {{\n",
       "    x.observe(notebookContainer, {childList: true});\n",
       "}}\n",
       "\n",
       "// Listen for the clearing of the current output cell\n",
       "var outputEl = gd.closest('.output');\n",
       "if (outputEl) {{\n",
       "    x.observe(outputEl, {childList: true});\n",
       "}}\n",
       "\n",
       "                        })\n",
       "                };\n",
       "                });\n",
       "            </script>\n",
       "        </div>"
      ]
     },
     "metadata": {},
     "output_type": "display_data"
    }
   ],
   "source": [
    "df[['x', 'inv_logit']].set_index('x').iplot(kind='scatter', mode='markers', \n",
    "                                            color='green', theme='white',\n",
    "                                            title='Estimated probability', \n",
    "                                            xTitle='Predictor variable', \n",
    "                                            yTitle='p estimated')"
   ]
  },
  {
   "cell_type": "markdown",
   "metadata": {},
   "source": [
    "Although $x$ is a categorical variable, we've put in more values in between $[1,5]$ for better visualize the shape of the function:"
   ]
  },
  {
   "cell_type": "code",
   "execution_count": 9,
   "metadata": {},
   "outputs": [
    {
     "data": {
      "application/vnd.plotly.v1+json": {
       "config": {
        "linkText": "Export to plot.ly",
        "plotlyServerURL": "https://plot.ly",
        "showLink": true
       },
       "data": [
        {
         "line": {
          "color": "rgba(0, 128, 0, 1.0)",
          "dash": "solid",
          "shape": "linear",
          "width": 1.3
         },
         "mode": "lines",
         "name": "inv_logit",
         "text": "",
         "type": "scatter",
         "uid": "2a0bbc72-c1dd-40f3-88ed-687b9c510fa1",
         "x": [
          1,
          1.0404040404040404,
          1.0808080808080809,
          1.121212121212121,
          1.1616161616161615,
          1.202020202020202,
          1.2424242424242424,
          1.2828282828282829,
          1.3232323232323233,
          1.3636363636363638,
          1.404040404040404,
          1.4444444444444444,
          1.4848484848484849,
          1.5252525252525253,
          1.5656565656565657,
          1.606060606060606,
          1.6464646464646466,
          1.6868686868686869,
          1.7272727272727273,
          1.7676767676767677,
          1.8080808080808082,
          1.8484848484848486,
          1.8888888888888888,
          1.9292929292929295,
          1.9696969696969697,
          2.0101010101010104,
          2.0505050505050506,
          2.090909090909091,
          2.1313131313131315,
          2.1717171717171717,
          2.212121212121212,
          2.2525252525252526,
          2.2929292929292933,
          2.3333333333333335,
          2.3737373737373737,
          2.4141414141414144,
          2.4545454545454546,
          2.494949494949495,
          2.5353535353535355,
          2.575757575757576,
          2.6161616161616164,
          2.6565656565656566,
          2.6969696969696972,
          2.7373737373737375,
          2.7777777777777777,
          2.8181818181818183,
          2.858585858585859,
          2.8989898989898992,
          2.9393939393939394,
          2.97979797979798,
          3.0202020202020203,
          3.060606060606061,
          3.101010101010101,
          3.1414141414141414,
          3.181818181818182,
          3.2222222222222223,
          3.262626262626263,
          3.303030303030303,
          3.3434343434343434,
          3.383838383838384,
          3.4242424242424243,
          3.464646464646465,
          3.505050505050505,
          3.545454545454546,
          3.585858585858586,
          3.6262626262626263,
          3.666666666666667,
          3.707070707070707,
          3.747474747474748,
          3.787878787878788,
          3.8282828282828287,
          3.868686868686869,
          3.909090909090909,
          3.94949494949495,
          3.98989898989899,
          4.030303030303031,
          4.070707070707071,
          4.111111111111111,
          4.151515151515152,
          4.191919191919192,
          4.232323232323233,
          4.272727272727273,
          4.313131313131313,
          4.353535353535354,
          4.3939393939393945,
          4.434343434343434,
          4.474747474747475,
          4.515151515151516,
          4.555555555555555,
          4.595959595959597,
          4.636363636363637,
          4.6767676767676765,
          4.717171717171718,
          4.757575757575758,
          4.7979797979797985,
          4.838383838383839,
          4.878787878787879,
          4.91919191919192,
          4.95959595959596,
          5
         ],
         "y": [
          0.12008289483038301,
          0.12746411355284834,
          0.13522931127741347,
          0.14338982859650642,
          0.1519562655542863,
          0.1609383290783069,
          0.1703446723162247,
          0.18018272733710003,
          0.19045853302963522,
          0.20117656041594167,
          0.2123395379878622,
          0.2239482800496854,
          0.23600152140019257,
          0.24849576199031664,
          0.26142512543086105,
          0.27478123537778093,
          0.2885531138710057,
          0.30272710562893895,
          0.3172868320899263,
          0.33221317863391175,
          0.34748431790781914,
          0.3630757715194636,
          0.3789605115674475,
          0.395109102557228,
          0.41148988324321945,
          0.42806918686772566,
          0.44481159718011165,
          0.4616802365585195,
          0.47863708156795376,
          0.4956433004180705,
          0.512659606072999,
          0.5296466182488531,
          0.5465652272381544,
          0.5633769524391737,
          0.5800442886453506,
          0.5965310335564449,
          0.6128025905884198,
          0.6288262418527277,
          0.6445713871092213,
          0.6600097455266327,
          0.675115518164242,
          0.6898655101721571,
          0.7042392127527459,
          0.7182188458945176,
          0.7317893637513605,
          0.7449384252715621,
          0.7576563332678307,
          0.769935945555108,
          0.7817725620682313,
          0.7931637920139141,
          0.8041094051236043,
          0.8146111709719157,
          0.8246726901282422,
          0.8342992206367247,
          0.8434975029916997,
          0.8522755864109921,
          0.8606426588250615,
          0.868608882611066,
          0.87618523771998,
          0.8833833734820163,
          0.8902154700383923,
          0.8966941100412218,
          0.9028321609912576,
          0.908642668346841,
          0.914138759336733,
          0.9193335572433851,
          0.9242401057896227,
          0.9288713031580921,
          0.9332398450960978,
          0.9373581765055314,
          0.9412384508851636,
          0.944892496977548,
          0.948331791972173,
          0.9515674406275388,
          0.9546101596950783,
          0.9574702670550326,
          0.9601576750066702,
          0.9626818871909137,
          0.9650519986611688,
          0.967276698656788,
          0.9693642756722256,
          0.97132262445284,
          0.9731592545849124,
          0.9748813003823784,
          0.9764955318057178,
          0.9780083661792309,
          0.9794258805014703,
          0.9807538241698209,
          0.9819976319641901,
          0.9831624371565044,
          0.9842530846323307,
          0.9852741439285292,
          0.986229922106542,
          0.987124476394859,
          0.9879616265464989,
          0.9887449668681539,
          0.989477877887089,
          0.9901635376300965,
          0.9908049324959032,
          0.9914048677085244
         ]
        }
       ],
       "layout": {
        "legend": {
         "bgcolor": "#FFFFFF",
         "font": {
          "color": "#4D5663"
         }
        },
        "paper_bgcolor": "#FFFFFF",
        "plot_bgcolor": "#FFFFFF",
        "title": {
         "font": {
          "color": "#4D5663"
         },
         "text": "Estimated probability"
        },
        "xaxis": {
         "gridcolor": "#E1E5ED",
         "showgrid": true,
         "tickfont": {
          "color": "#4D5663"
         },
         "title": {
          "font": {
           "color": "#4D5663"
          },
          "text": "Predictor variable"
         },
         "zerolinecolor": "#E1E5ED"
        },
        "yaxis": {
         "gridcolor": "#E1E5ED",
         "showgrid": true,
         "tickfont": {
          "color": "#4D5663"
         },
         "title": {
          "font": {
           "color": "#4D5663"
          },
          "text": "p estimated"
         },
         "zerolinecolor": "#E1E5ED"
        }
       }
      },
      "text/html": [
       "<div>\n",
       "        \n",
       "        \n",
       "            <div id=\"b2321d30-975a-4b86-a708-b11afc51fde5\" class=\"plotly-graph-div\" style=\"height:525px; width:100%;\"></div>\n",
       "            <script type=\"text/javascript\">\n",
       "                require([\"plotly\"], function(Plotly) {\n",
       "                    window.PLOTLYENV=window.PLOTLYENV || {};\n",
       "                    window.PLOTLYENV.BASE_URL='https://plot.ly';\n",
       "                    \n",
       "                if (document.getElementById(\"b2321d30-975a-4b86-a708-b11afc51fde5\")) {\n",
       "                    Plotly.newPlot(\n",
       "                        'b2321d30-975a-4b86-a708-b11afc51fde5',\n",
       "                        [{\"line\": {\"color\": \"rgba(0, 128, 0, 1.0)\", \"dash\": \"solid\", \"shape\": \"linear\", \"width\": 1.3}, \"mode\": \"lines\", \"name\": \"inv_logit\", \"text\": \"\", \"type\": \"scatter\", \"uid\": \"2a0bbc72-c1dd-40f3-88ed-687b9c510fa1\", \"x\": [1.0, 1.0404040404040404, 1.0808080808080809, 1.121212121212121, 1.1616161616161615, 1.202020202020202, 1.2424242424242424, 1.2828282828282829, 1.3232323232323233, 1.3636363636363638, 1.404040404040404, 1.4444444444444444, 1.4848484848484849, 1.5252525252525253, 1.5656565656565657, 1.606060606060606, 1.6464646464646466, 1.6868686868686869, 1.7272727272727273, 1.7676767676767677, 1.8080808080808082, 1.8484848484848486, 1.8888888888888888, 1.9292929292929295, 1.9696969696969697, 2.0101010101010104, 2.0505050505050506, 2.090909090909091, 2.1313131313131315, 2.1717171717171717, 2.212121212121212, 2.2525252525252526, 2.2929292929292933, 2.3333333333333335, 2.3737373737373737, 2.4141414141414144, 2.4545454545454546, 2.494949494949495, 2.5353535353535355, 2.575757575757576, 2.6161616161616164, 2.6565656565656566, 2.6969696969696972, 2.7373737373737375, 2.7777777777777777, 2.8181818181818183, 2.858585858585859, 2.8989898989898992, 2.9393939393939394, 2.97979797979798, 3.0202020202020203, 3.060606060606061, 3.101010101010101, 3.1414141414141414, 3.181818181818182, 3.2222222222222223, 3.262626262626263, 3.303030303030303, 3.3434343434343434, 3.383838383838384, 3.4242424242424243, 3.464646464646465, 3.505050505050505, 3.545454545454546, 3.585858585858586, 3.6262626262626263, 3.666666666666667, 3.707070707070707, 3.747474747474748, 3.787878787878788, 3.8282828282828287, 3.868686868686869, 3.909090909090909, 3.94949494949495, 3.98989898989899, 4.030303030303031, 4.070707070707071, 4.111111111111111, 4.151515151515152, 4.191919191919192, 4.232323232323233, 4.272727272727273, 4.313131313131313, 4.353535353535354, 4.3939393939393945, 4.434343434343434, 4.474747474747475, 4.515151515151516, 4.555555555555555, 4.595959595959597, 4.636363636363637, 4.6767676767676765, 4.717171717171718, 4.757575757575758, 4.7979797979797985, 4.838383838383839, 4.878787878787879, 4.91919191919192, 4.95959595959596, 5.0], \"y\": [0.12008289483038301, 0.12746411355284834, 0.13522931127741347, 0.14338982859650642, 0.1519562655542863, 0.1609383290783069, 0.1703446723162247, 0.18018272733710003, 0.19045853302963522, 0.20117656041594167, 0.2123395379878622, 0.2239482800496854, 0.23600152140019257, 0.24849576199031664, 0.26142512543086105, 0.27478123537778093, 0.2885531138710057, 0.30272710562893895, 0.3172868320899263, 0.33221317863391175, 0.34748431790781914, 0.3630757715194636, 0.3789605115674475, 0.395109102557228, 0.41148988324321945, 0.42806918686772566, 0.44481159718011165, 0.4616802365585195, 0.47863708156795376, 0.4956433004180705, 0.512659606072999, 0.5296466182488531, 0.5465652272381544, 0.5633769524391737, 0.5800442886453506, 0.5965310335564449, 0.6128025905884198, 0.6288262418527277, 0.6445713871092213, 0.6600097455266327, 0.675115518164242, 0.6898655101721571, 0.7042392127527459, 0.7182188458945176, 0.7317893637513605, 0.7449384252715621, 0.7576563332678307, 0.769935945555108, 0.7817725620682313, 0.7931637920139141, 0.8041094051236043, 0.8146111709719157, 0.8246726901282422, 0.8342992206367247, 0.8434975029916997, 0.8522755864109921, 0.8606426588250615, 0.868608882611066, 0.87618523771998, 0.8833833734820163, 0.8902154700383923, 0.8966941100412218, 0.9028321609912576, 0.908642668346841, 0.914138759336733, 0.9193335572433851, 0.9242401057896227, 0.9288713031580921, 0.9332398450960978, 0.9373581765055314, 0.9412384508851636, 0.944892496977548, 0.948331791972173, 0.9515674406275388, 0.9546101596950783, 0.9574702670550326, 0.9601576750066702, 0.9626818871909137, 0.9650519986611688, 0.967276698656788, 0.9693642756722256, 0.97132262445284, 0.9731592545849124, 0.9748813003823784, 0.9764955318057178, 0.9780083661792309, 0.9794258805014703, 0.9807538241698209, 0.9819976319641901, 0.9831624371565044, 0.9842530846323307, 0.9852741439285292, 0.986229922106542, 0.987124476394859, 0.9879616265464989, 0.9887449668681539, 0.989477877887089, 0.9901635376300965, 0.9908049324959032, 0.9914048677085244]}],\n",
       "                        {\"legend\": {\"bgcolor\": \"#FFFFFF\", \"font\": {\"color\": \"#4D5663\"}}, \"paper_bgcolor\": \"#FFFFFF\", \"plot_bgcolor\": \"#FFFFFF\", \"title\": {\"font\": {\"color\": \"#4D5663\"}, \"text\": \"Estimated probability\"}, \"xaxis\": {\"gridcolor\": \"#E1E5ED\", \"showgrid\": true, \"tickfont\": {\"color\": \"#4D5663\"}, \"title\": {\"font\": {\"color\": \"#4D5663\"}, \"text\": \"Predictor variable\"}, \"zerolinecolor\": \"#E1E5ED\"}, \"yaxis\": {\"gridcolor\": \"#E1E5ED\", \"showgrid\": true, \"tickfont\": {\"color\": \"#4D5663\"}, \"title\": {\"font\": {\"color\": \"#4D5663\"}, \"text\": \"p estimated\"}, \"zerolinecolor\": \"#E1E5ED\"}},\n",
       "                        {\"showLink\": true, \"linkText\": \"Export to plot.ly\", \"plotlyServerURL\": \"https://plot.ly\", \"responsive\": true}\n",
       "                    ).then(function(){\n",
       "                            \n",
       "var gd = document.getElementById('b2321d30-975a-4b86-a708-b11afc51fde5');\n",
       "var x = new MutationObserver(function (mutations, observer) {{\n",
       "        var display = window.getComputedStyle(gd).display;\n",
       "        if (!display || display === 'none') {{\n",
       "            console.log([gd, 'removed!']);\n",
       "            Plotly.purge(gd);\n",
       "            observer.disconnect();\n",
       "        }}\n",
       "}});\n",
       "\n",
       "// Listen for the removal of the full notebook cells\n",
       "var notebookContainer = gd.closest('#notebook-container');\n",
       "if (notebookContainer) {{\n",
       "    x.observe(notebookContainer, {childList: true});\n",
       "}}\n",
       "\n",
       "// Listen for the clearing of the current output cell\n",
       "var outputEl = gd.closest('.output');\n",
       "if (outputEl) {{\n",
       "    x.observe(outputEl, {childList: true});\n",
       "}}\n",
       "\n",
       "                        })\n",
       "                };\n",
       "                });\n",
       "            </script>\n",
       "        </div>"
      ]
     },
     "metadata": {},
     "output_type": "display_data"
    }
   ],
   "source": [
    "xvalues = np.linspace(1, 5, 100)\n",
    "logit_xvalues = model.intercept_[0] + xvalues*model.coef_[0]\n",
    "inv_logit_xvalues = [inv_logit(x) for x in logit_xvalues]\n",
    "\n",
    "df_ex = pd.DataFrame(data=np.array([xvalues, logit_xvalues, inv_logit_xvalues]).T, \n",
    "                     columns=['x', 'logit', 'inv_logit'])\n",
    "\n",
    "df_ex[['x', 'inv_logit']].set_index('x').iplot(kind='scatter', mode='lines', \n",
    "                                               color='green', theme='white',\n",
    "                                               title='Estimated probability', \n",
    "                                               xTitle='Predictor variable', \n",
    "                                               yTitle='p estimated')"
   ]
  },
  {
   "cell_type": "markdown",
   "metadata": {},
   "source": [
    "This is the usual plot we see as the relationship of the estimated probability and our predictor variable, and we can see that the relationship of those two is not linear:\n",
    "\n",
    "$$ p = logit^{-1}(logit(p)) = logit^{-1}(\\beta X) = \\frac{1}{1 + \\exp{\\beta X}}$$"
   ]
  },
  {
   "cell_type": "markdown",
   "metadata": {},
   "source": [
    "* Which is the point that gives us the separation of positive and negative outcomes?"
   ]
  },
  {
   "cell_type": "code",
   "execution_count": 52,
   "metadata": {},
   "outputs": [
    {
     "data": {
      "text/plain": [
       "0.0"
      ]
     },
     "execution_count": 52,
     "metadata": {},
     "output_type": "execute_result"
    }
   ],
   "source": [
    "np.log(0.5/(1-0.5))"
   ]
  },
  {
   "cell_type": "code",
   "execution_count": null,
   "metadata": {},
   "outputs": [],
   "source": []
  }
 ],
 "metadata": {
  "kernelspec": {
   "display_name": "Python 3",
   "language": "python",
   "name": "python3"
  },
  "language_info": {
   "codemirror_mode": {
    "name": "ipython",
    "version": 3
   },
   "file_extension": ".py",
   "mimetype": "text/x-python",
   "name": "python",
   "nbconvert_exporter": "python",
   "pygments_lexer": "ipython3",
   "version": "3.7.4"
  },
  "toc": {
   "base_numbering": 1,
   "nav_menu": {},
   "number_sections": true,
   "sideBar": true,
   "skip_h1_title": true,
   "title_cell": "Table of Contents",
   "title_sidebar": "Contents",
   "toc_cell": true,
   "toc_position": {},
   "toc_section_display": true,
   "toc_window_display": false
  }
 },
 "nbformat": 4,
 "nbformat_minor": 2
}
